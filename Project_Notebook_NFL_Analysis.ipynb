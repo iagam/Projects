{
 "cells": [
  {
   "cell_type": "markdown",
   "metadata": {},
   "source": [
    "# NFL Game Analysis"
   ]
  },
  {
   "cell_type": "markdown",
   "metadata": {},
   "source": [
    "<img src='nfl_logo.png' style='width:200px;height:240px'/>"
   ]
  },
  {
   "cell_type": "markdown",
   "metadata": {},
   "source": [
    "## Import dependencies"
   ]
  },
  {
   "cell_type": "code",
   "execution_count": 1,
   "metadata": {},
   "outputs": [],
   "source": [
    "import os\n",
    "import pandas as pd\n",
    "import numpy as np\n",
    "import seaborn as sns\n",
    "import matplotlib.pyplot as plt\n",
    "from datetime import date\n",
    "import math\n",
    "\n",
    "path = 'C:/Users/OYO/Desktop/NFL_Folder'\n",
    "os.chdir(path)"
   ]
  },
  {
   "cell_type": "markdown",
   "metadata": {},
   "source": [
    "## Dataset Description"
   ]
  },
  {
   "cell_type": "code",
   "execution_count": 2,
   "metadata": {},
   "outputs": [],
   "source": [
    "nfl = pd.read_csv('nfl_play.csv',low_memory=False)\n",
    "players = pd.read_csv('players.csv', low_memory = False)"
   ]
  },
  {
   "cell_type": "code",
   "execution_count": 3,
   "metadata": {},
   "outputs": [
    {
     "data": {
      "text/html": [
       "<div>\n",
       "<style scoped>\n",
       "    .dataframe tbody tr th:only-of-type {\n",
       "        vertical-align: middle;\n",
       "    }\n",
       "\n",
       "    .dataframe tbody tr th {\n",
       "        vertical-align: top;\n",
       "    }\n",
       "\n",
       "    .dataframe thead th {\n",
       "        text-align: right;\n",
       "    }\n",
       "</style>\n",
       "<table border=\"1\" class=\"dataframe\">\n",
       "  <thead>\n",
       "    <tr style=\"text-align: right;\">\n",
       "      <th></th>\n",
       "      <th>play_id</th>\n",
       "      <th>game_id</th>\n",
       "      <th>home_team</th>\n",
       "      <th>away_team</th>\n",
       "      <th>posteam</th>\n",
       "      <th>posteam_type</th>\n",
       "      <th>defteam</th>\n",
       "      <th>side_of_field</th>\n",
       "      <th>yardline_100</th>\n",
       "      <th>game_date</th>\n",
       "      <th>...</th>\n",
       "      <th>penalty_player_id</th>\n",
       "      <th>penalty_player_name</th>\n",
       "      <th>penalty_yards</th>\n",
       "      <th>replay_or_challenge</th>\n",
       "      <th>replay_or_challenge_result</th>\n",
       "      <th>penalty_type</th>\n",
       "      <th>defensive_two_point_attempt</th>\n",
       "      <th>defensive_two_point_conv</th>\n",
       "      <th>defensive_extra_point_attempt</th>\n",
       "      <th>defensive_extra_point_conv</th>\n",
       "    </tr>\n",
       "  </thead>\n",
       "  <tbody>\n",
       "    <tr>\n",
       "      <td>0</td>\n",
       "      <td>46</td>\n",
       "      <td>2009091000</td>\n",
       "      <td>PIT</td>\n",
       "      <td>TEN</td>\n",
       "      <td>PIT</td>\n",
       "      <td>home</td>\n",
       "      <td>TEN</td>\n",
       "      <td>TEN</td>\n",
       "      <td>30.0</td>\n",
       "      <td>2009-09-10</td>\n",
       "      <td>...</td>\n",
       "      <td>NaN</td>\n",
       "      <td>NaN</td>\n",
       "      <td>NaN</td>\n",
       "      <td>0</td>\n",
       "      <td>NaN</td>\n",
       "      <td>NaN</td>\n",
       "      <td>0.0</td>\n",
       "      <td>0.0</td>\n",
       "      <td>0.0</td>\n",
       "      <td>0.0</td>\n",
       "    </tr>\n",
       "    <tr>\n",
       "      <td>1</td>\n",
       "      <td>68</td>\n",
       "      <td>2009091000</td>\n",
       "      <td>PIT</td>\n",
       "      <td>TEN</td>\n",
       "      <td>PIT</td>\n",
       "      <td>home</td>\n",
       "      <td>TEN</td>\n",
       "      <td>PIT</td>\n",
       "      <td>58.0</td>\n",
       "      <td>2009-09-10</td>\n",
       "      <td>...</td>\n",
       "      <td>NaN</td>\n",
       "      <td>NaN</td>\n",
       "      <td>NaN</td>\n",
       "      <td>0</td>\n",
       "      <td>NaN</td>\n",
       "      <td>NaN</td>\n",
       "      <td>0.0</td>\n",
       "      <td>0.0</td>\n",
       "      <td>0.0</td>\n",
       "      <td>0.0</td>\n",
       "    </tr>\n",
       "    <tr>\n",
       "      <td>2</td>\n",
       "      <td>92</td>\n",
       "      <td>2009091000</td>\n",
       "      <td>PIT</td>\n",
       "      <td>TEN</td>\n",
       "      <td>PIT</td>\n",
       "      <td>home</td>\n",
       "      <td>TEN</td>\n",
       "      <td>PIT</td>\n",
       "      <td>53.0</td>\n",
       "      <td>2009-09-10</td>\n",
       "      <td>...</td>\n",
       "      <td>NaN</td>\n",
       "      <td>NaN</td>\n",
       "      <td>NaN</td>\n",
       "      <td>0</td>\n",
       "      <td>NaN</td>\n",
       "      <td>NaN</td>\n",
       "      <td>0.0</td>\n",
       "      <td>0.0</td>\n",
       "      <td>0.0</td>\n",
       "      <td>0.0</td>\n",
       "    </tr>\n",
       "    <tr>\n",
       "      <td>3</td>\n",
       "      <td>113</td>\n",
       "      <td>2009091000</td>\n",
       "      <td>PIT</td>\n",
       "      <td>TEN</td>\n",
       "      <td>PIT</td>\n",
       "      <td>home</td>\n",
       "      <td>TEN</td>\n",
       "      <td>PIT</td>\n",
       "      <td>56.0</td>\n",
       "      <td>2009-09-10</td>\n",
       "      <td>...</td>\n",
       "      <td>NaN</td>\n",
       "      <td>NaN</td>\n",
       "      <td>NaN</td>\n",
       "      <td>0</td>\n",
       "      <td>NaN</td>\n",
       "      <td>NaN</td>\n",
       "      <td>0.0</td>\n",
       "      <td>0.0</td>\n",
       "      <td>0.0</td>\n",
       "      <td>0.0</td>\n",
       "    </tr>\n",
       "    <tr>\n",
       "      <td>4</td>\n",
       "      <td>139</td>\n",
       "      <td>2009091000</td>\n",
       "      <td>PIT</td>\n",
       "      <td>TEN</td>\n",
       "      <td>PIT</td>\n",
       "      <td>home</td>\n",
       "      <td>TEN</td>\n",
       "      <td>PIT</td>\n",
       "      <td>56.0</td>\n",
       "      <td>2009-09-10</td>\n",
       "      <td>...</td>\n",
       "      <td>NaN</td>\n",
       "      <td>NaN</td>\n",
       "      <td>NaN</td>\n",
       "      <td>0</td>\n",
       "      <td>NaN</td>\n",
       "      <td>NaN</td>\n",
       "      <td>0.0</td>\n",
       "      <td>0.0</td>\n",
       "      <td>0.0</td>\n",
       "      <td>0.0</td>\n",
       "    </tr>\n",
       "  </tbody>\n",
       "</table>\n",
       "<p>5 rows × 255 columns</p>\n",
       "</div>"
      ],
      "text/plain": [
       "   play_id     game_id home_team away_team posteam posteam_type defteam  \\\n",
       "0       46  2009091000       PIT       TEN     PIT         home     TEN   \n",
       "1       68  2009091000       PIT       TEN     PIT         home     TEN   \n",
       "2       92  2009091000       PIT       TEN     PIT         home     TEN   \n",
       "3      113  2009091000       PIT       TEN     PIT         home     TEN   \n",
       "4      139  2009091000       PIT       TEN     PIT         home     TEN   \n",
       "\n",
       "  side_of_field  yardline_100   game_date  ...  penalty_player_id  \\\n",
       "0           TEN          30.0  2009-09-10  ...                NaN   \n",
       "1           PIT          58.0  2009-09-10  ...                NaN   \n",
       "2           PIT          53.0  2009-09-10  ...                NaN   \n",
       "3           PIT          56.0  2009-09-10  ...                NaN   \n",
       "4           PIT          56.0  2009-09-10  ...                NaN   \n",
       "\n",
       "   penalty_player_name  penalty_yards replay_or_challenge  \\\n",
       "0                  NaN            NaN                   0   \n",
       "1                  NaN            NaN                   0   \n",
       "2                  NaN            NaN                   0   \n",
       "3                  NaN            NaN                   0   \n",
       "4                  NaN            NaN                   0   \n",
       "\n",
       "   replay_or_challenge_result  penalty_type  defensive_two_point_attempt  \\\n",
       "0                         NaN           NaN                          0.0   \n",
       "1                         NaN           NaN                          0.0   \n",
       "2                         NaN           NaN                          0.0   \n",
       "3                         NaN           NaN                          0.0   \n",
       "4                         NaN           NaN                          0.0   \n",
       "\n",
       "   defensive_two_point_conv  defensive_extra_point_attempt  \\\n",
       "0                       0.0                            0.0   \n",
       "1                       0.0                            0.0   \n",
       "2                       0.0                            0.0   \n",
       "3                       0.0                            0.0   \n",
       "4                       0.0                            0.0   \n",
       "\n",
       "   defensive_extra_point_conv  \n",
       "0                         0.0  \n",
       "1                         0.0  \n",
       "2                         0.0  \n",
       "3                         0.0  \n",
       "4                         0.0  \n",
       "\n",
       "[5 rows x 255 columns]"
      ]
     },
     "execution_count": 3,
     "metadata": {},
     "output_type": "execute_result"
    }
   ],
   "source": [
    "nfl.head()"
   ]
  },
  {
   "cell_type": "code",
   "execution_count": 4,
   "metadata": {},
   "outputs": [
    {
     "data": {
      "text/plain": [
       "(1713, 10)"
      ]
     },
     "execution_count": 4,
     "metadata": {},
     "output_type": "execute_result"
    }
   ],
   "source": [
    "players.shape"
   ]
  },
  {
   "cell_type": "code",
   "execution_count": 5,
   "metadata": {},
   "outputs": [
    {
     "data": {
      "text/plain": [
       "(449371, 255)"
      ]
     },
     "execution_count": 5,
     "metadata": {},
     "output_type": "execute_result"
    }
   ],
   "source": [
    "nfl.shape"
   ]
  },
  {
   "cell_type": "raw",
   "metadata": {},
   "source": [
    "The dataset consists of 449371 rows and 255 columns. Here are the column names for the dataset."
   ]
  },
  {
   "cell_type": "code",
   "execution_count": 6,
   "metadata": {},
   "outputs": [
    {
     "name": "stdout",
     "output_type": "stream",
     "text": [
      "Index(['play_id', 'game_id', 'home_team', 'away_team', 'posteam',\n",
      "       'posteam_type', 'defteam', 'side_of_field', 'yardline_100', 'game_date',\n",
      "       ...\n",
      "       'penalty_player_id', 'penalty_player_name', 'penalty_yards',\n",
      "       'replay_or_challenge', 'replay_or_challenge_result', 'penalty_type',\n",
      "       'defensive_two_point_attempt', 'defensive_two_point_conv',\n",
      "       'defensive_extra_point_attempt', 'defensive_extra_point_conv'],\n",
      "      dtype='object', length=255)\n"
     ]
    }
   ],
   "source": [
    "print(nfl.columns)"
   ]
  },
  {
   "cell_type": "code",
   "execution_count": 7,
   "metadata": {},
   "outputs": [
    {
     "name": "stdout",
     "output_type": "stream",
     "text": [
      "Index(['nflId', 'FirstName', 'LastName', 'PositionAbbr', 'EntryYear',\n",
      "       'DraftRound', 'DraftNumber', 'Height', 'Weight', 'College'],\n",
      "      dtype='object')\n"
     ]
    }
   ],
   "source": [
    "print(players.columns)"
   ]
  },
  {
   "cell_type": "markdown",
   "metadata": {},
   "source": [
    "**Before we dive deep into analysis, we must get a little better understanding of the game. American Football as we know it is played extensively in US with two major divisions AFC and NFC. There are a total of 32 teams that compete among each others to win the Finale Event called SuperBowl. Each team has three set of teams - Offensive, Defensive and Special Teams. At any moment of time in the game a maximum of 11 players are allowed on the field.**\n",
    "\n",
    "\n"
   ]
  },
  {
   "cell_type": "raw",
   "metadata": {},
   "source": [
    "  Number of 2017 Season players:   1,788\n",
    "  Number of players allowed per team:   53\n",
    "  Number of games a team plays in a NFL season:   16\n",
    "  Number of weeks in a NFL season:   17\n",
    "  Total unique NFL games played per season:   256\n",
    "  Number of NFL seasons in the dataset:   10\n",
    "  Number of unique NFL jersey numbers:   99\n",
    "  Size of a typical NFL field (in acres):   1.32"
   ]
  },
  {
   "cell_type": "markdown",
   "metadata": {},
   "source": [
    "## Teams in NFL"
   ]
  },
  {
   "cell_type": "markdown",
   "metadata": {},
   "source": [
    "![](first8.png)"
   ]
  },
  {
   "cell_type": "markdown",
   "metadata": {},
   "source": [
    "![](second8.png)"
   ]
  },
  {
   "cell_type": "markdown",
   "metadata": {},
   "source": [
    "![](third8.png)"
   ]
  },
  {
   "cell_type": "markdown",
   "metadata": {},
   "source": [
    "![](last8.png)"
   ]
  },
  {
   "cell_type": "markdown",
   "metadata": {},
   "source": [
    "## Team Names Short Codes"
   ]
  },
  {
   "cell_type": "raw",
   "metadata": {},
   "source": [
    "ARI: Arizona Cardinals\n",
    "ATL: Atlanta Falcons\n",
    "BAL: Baltimore Ravens\n",
    "BUF: Buffalo Bills\n",
    "CAR: Carolina Panthers\n",
    "CHI: Chicago Bears\n",
    "CIN: Cincinnati Bengals\n",
    "CLE: Cleveland Browns\n",
    "DAL: Dallas Cowboys\n",
    "DEN: Denver Broncos\n",
    "DET: Detroit Lions\n",
    "GB: Green Bay Packers\n",
    "HOU: Houston Texans\n",
    "IND: Indianapolis Colts\n",
    "JAX: Jacksonville Jaguars\n",
    "KC: Kansas City Chiefs\n",
    "MIA: Miami Dolphins\n",
    "MIN: Minnesota Vikings\n",
    "NE: New England Patriots\n",
    "NO: New Orleans Saints\n",
    "NYG: New York Giants\n",
    "NYJ: New York Jets\n",
    "OAK: Oakland Raiders\n",
    "PHI: Philadelphia Eagles\n",
    "PIT: Pittsburgh Steelers\n",
    "SD: San Diego Chargers\n",
    "SEA: Seattle Seahawks\n",
    "SF: San Francisco 49ers\n",
    "STL: Saint Louis Rams\n",
    "TB: Tampa Bay Buccaneers\n",
    "TEN Tennessee Titans\n",
    "WAS: Washington Redskins"
   ]
  },
  {
   "cell_type": "code",
   "execution_count": 11,
   "metadata": {},
   "outputs": [
    {
     "data": {
      "text/html": [
       "<div>\n",
       "<style scoped>\n",
       "    .dataframe tbody tr th:only-of-type {\n",
       "        vertical-align: middle;\n",
       "    }\n",
       "\n",
       "    .dataframe tbody tr th {\n",
       "        vertical-align: top;\n",
       "    }\n",
       "\n",
       "    .dataframe thead th {\n",
       "        text-align: right;\n",
       "    }\n",
       "</style>\n",
       "<table border=\"1\" class=\"dataframe\">\n",
       "  <thead>\n",
       "    <tr style=\"text-align: right;\">\n",
       "      <th></th>\n",
       "      <th>game_id</th>\n",
       "      <th>posteam</th>\n",
       "      <th>defteam</th>\n",
       "      <th>drive</th>\n",
       "      <th>down</th>\n",
       "      <th>qtr</th>\n",
       "      <th>yardline_100</th>\n",
       "      <th>quarter_seconds_remaining</th>\n",
       "      <th>half_seconds_remaining</th>\n",
       "      <th>game_seconds_remaining</th>\n",
       "      <th>fourth_down_converted</th>\n",
       "      <th>third_down_converted</th>\n",
       "      <th>play_type</th>\n",
       "    </tr>\n",
       "  </thead>\n",
       "  <tbody>\n",
       "    <tr>\n",
       "      <td>0</td>\n",
       "      <td>2009091000</td>\n",
       "      <td>PIT</td>\n",
       "      <td>TEN</td>\n",
       "      <td>1</td>\n",
       "      <td>NaN</td>\n",
       "      <td>1</td>\n",
       "      <td>30.0</td>\n",
       "      <td>900.0</td>\n",
       "      <td>1800.0</td>\n",
       "      <td>3600.0</td>\n",
       "      <td>0.0</td>\n",
       "      <td>0.0</td>\n",
       "      <td>kickoff</td>\n",
       "    </tr>\n",
       "    <tr>\n",
       "      <td>1</td>\n",
       "      <td>2009091000</td>\n",
       "      <td>PIT</td>\n",
       "      <td>TEN</td>\n",
       "      <td>1</td>\n",
       "      <td>1.0</td>\n",
       "      <td>1</td>\n",
       "      <td>58.0</td>\n",
       "      <td>893.0</td>\n",
       "      <td>1793.0</td>\n",
       "      <td>3593.0</td>\n",
       "      <td>0.0</td>\n",
       "      <td>0.0</td>\n",
       "      <td>pass</td>\n",
       "    </tr>\n",
       "    <tr>\n",
       "      <td>2</td>\n",
       "      <td>2009091000</td>\n",
       "      <td>PIT</td>\n",
       "      <td>TEN</td>\n",
       "      <td>1</td>\n",
       "      <td>2.0</td>\n",
       "      <td>1</td>\n",
       "      <td>53.0</td>\n",
       "      <td>856.0</td>\n",
       "      <td>1756.0</td>\n",
       "      <td>3556.0</td>\n",
       "      <td>0.0</td>\n",
       "      <td>0.0</td>\n",
       "      <td>run</td>\n",
       "    </tr>\n",
       "    <tr>\n",
       "      <td>3</td>\n",
       "      <td>2009091000</td>\n",
       "      <td>PIT</td>\n",
       "      <td>TEN</td>\n",
       "      <td>1</td>\n",
       "      <td>3.0</td>\n",
       "      <td>1</td>\n",
       "      <td>56.0</td>\n",
       "      <td>815.0</td>\n",
       "      <td>1715.0</td>\n",
       "      <td>3515.0</td>\n",
       "      <td>0.0</td>\n",
       "      <td>0.0</td>\n",
       "      <td>pass</td>\n",
       "    </tr>\n",
       "    <tr>\n",
       "      <td>4</td>\n",
       "      <td>2009091000</td>\n",
       "      <td>PIT</td>\n",
       "      <td>TEN</td>\n",
       "      <td>1</td>\n",
       "      <td>4.0</td>\n",
       "      <td>1</td>\n",
       "      <td>56.0</td>\n",
       "      <td>807.0</td>\n",
       "      <td>1707.0</td>\n",
       "      <td>3507.0</td>\n",
       "      <td>0.0</td>\n",
       "      <td>0.0</td>\n",
       "      <td>punt</td>\n",
       "    </tr>\n",
       "    <tr>\n",
       "      <td>...</td>\n",
       "      <td>...</td>\n",
       "      <td>...</td>\n",
       "      <td>...</td>\n",
       "      <td>...</td>\n",
       "      <td>...</td>\n",
       "      <td>...</td>\n",
       "      <td>...</td>\n",
       "      <td>...</td>\n",
       "      <td>...</td>\n",
       "      <td>...</td>\n",
       "      <td>...</td>\n",
       "      <td>...</td>\n",
       "      <td>...</td>\n",
       "    </tr>\n",
       "    <tr>\n",
       "      <td>449366</td>\n",
       "      <td>2018121700</td>\n",
       "      <td>CAR</td>\n",
       "      <td>NO</td>\n",
       "      <td>20</td>\n",
       "      <td>2.0</td>\n",
       "      <td>4</td>\n",
       "      <td>66.0</td>\n",
       "      <td>63.0</td>\n",
       "      <td>63.0</td>\n",
       "      <td>63.0</td>\n",
       "      <td>0.0</td>\n",
       "      <td>0.0</td>\n",
       "      <td>pass</td>\n",
       "    </tr>\n",
       "    <tr>\n",
       "      <td>449367</td>\n",
       "      <td>2018121700</td>\n",
       "      <td>CAR</td>\n",
       "      <td>NO</td>\n",
       "      <td>20</td>\n",
       "      <td>3.0</td>\n",
       "      <td>4</td>\n",
       "      <td>66.0</td>\n",
       "      <td>58.0</td>\n",
       "      <td>58.0</td>\n",
       "      <td>58.0</td>\n",
       "      <td>0.0</td>\n",
       "      <td>0.0</td>\n",
       "      <td>pass</td>\n",
       "    </tr>\n",
       "    <tr>\n",
       "      <td>449368</td>\n",
       "      <td>2018121700</td>\n",
       "      <td>CAR</td>\n",
       "      <td>NO</td>\n",
       "      <td>20</td>\n",
       "      <td>4.0</td>\n",
       "      <td>4</td>\n",
       "      <td>61.0</td>\n",
       "      <td>38.0</td>\n",
       "      <td>38.0</td>\n",
       "      <td>38.0</td>\n",
       "      <td>0.0</td>\n",
       "      <td>0.0</td>\n",
       "      <td>pass</td>\n",
       "    </tr>\n",
       "    <tr>\n",
       "      <td>449369</td>\n",
       "      <td>2018121700</td>\n",
       "      <td>NO</td>\n",
       "      <td>CAR</td>\n",
       "      <td>21</td>\n",
       "      <td>1.0</td>\n",
       "      <td>4</td>\n",
       "      <td>39.0</td>\n",
       "      <td>35.0</td>\n",
       "      <td>35.0</td>\n",
       "      <td>35.0</td>\n",
       "      <td>0.0</td>\n",
       "      <td>0.0</td>\n",
       "      <td>qb_kneel</td>\n",
       "    </tr>\n",
       "    <tr>\n",
       "      <td>449370</td>\n",
       "      <td>2018121700</td>\n",
       "      <td>NaN</td>\n",
       "      <td>NaN</td>\n",
       "      <td>21</td>\n",
       "      <td>NaN</td>\n",
       "      <td>4</td>\n",
       "      <td>NaN</td>\n",
       "      <td>0.0</td>\n",
       "      <td>0.0</td>\n",
       "      <td>0.0</td>\n",
       "      <td>NaN</td>\n",
       "      <td>NaN</td>\n",
       "      <td>NaN</td>\n",
       "    </tr>\n",
       "  </tbody>\n",
       "</table>\n",
       "<p>449371 rows × 13 columns</p>\n",
       "</div>"
      ],
      "text/plain": [
       "           game_id posteam defteam  drive  down  qtr  yardline_100  \\\n",
       "0       2009091000     PIT     TEN      1   NaN    1          30.0   \n",
       "1       2009091000     PIT     TEN      1   1.0    1          58.0   \n",
       "2       2009091000     PIT     TEN      1   2.0    1          53.0   \n",
       "3       2009091000     PIT     TEN      1   3.0    1          56.0   \n",
       "4       2009091000     PIT     TEN      1   4.0    1          56.0   \n",
       "...            ...     ...     ...    ...   ...  ...           ...   \n",
       "449366  2018121700     CAR      NO     20   2.0    4          66.0   \n",
       "449367  2018121700     CAR      NO     20   3.0    4          66.0   \n",
       "449368  2018121700     CAR      NO     20   4.0    4          61.0   \n",
       "449369  2018121700      NO     CAR     21   1.0    4          39.0   \n",
       "449370  2018121700     NaN     NaN     21   NaN    4           NaN   \n",
       "\n",
       "        quarter_seconds_remaining  half_seconds_remaining  \\\n",
       "0                           900.0                  1800.0   \n",
       "1                           893.0                  1793.0   \n",
       "2                           856.0                  1756.0   \n",
       "3                           815.0                  1715.0   \n",
       "4                           807.0                  1707.0   \n",
       "...                           ...                     ...   \n",
       "449366                       63.0                    63.0   \n",
       "449367                       58.0                    58.0   \n",
       "449368                       38.0                    38.0   \n",
       "449369                       35.0                    35.0   \n",
       "449370                        0.0                     0.0   \n",
       "\n",
       "        game_seconds_remaining  fourth_down_converted  third_down_converted  \\\n",
       "0                       3600.0                    0.0                   0.0   \n",
       "1                       3593.0                    0.0                   0.0   \n",
       "2                       3556.0                    0.0                   0.0   \n",
       "3                       3515.0                    0.0                   0.0   \n",
       "4                       3507.0                    0.0                   0.0   \n",
       "...                        ...                    ...                   ...   \n",
       "449366                    63.0                    0.0                   0.0   \n",
       "449367                    58.0                    0.0                   0.0   \n",
       "449368                    38.0                    0.0                   0.0   \n",
       "449369                    35.0                    0.0                   0.0   \n",
       "449370                     0.0                    NaN                   NaN   \n",
       "\n",
       "       play_type  \n",
       "0        kickoff  \n",
       "1           pass  \n",
       "2            run  \n",
       "3           pass  \n",
       "4           punt  \n",
       "...          ...  \n",
       "449366      pass  \n",
       "449367      pass  \n",
       "449368      pass  \n",
       "449369  qb_kneel  \n",
       "449370       NaN  \n",
       "\n",
       "[449371 rows x 13 columns]"
      ]
     },
     "execution_count": 11,
     "metadata": {},
     "output_type": "execute_result"
    }
   ],
   "source": [
    "# Getting only the relevant columns required for model building and fitting\n",
    "\n",
    "down_conv = nfl[['game_id','posteam','defteam','drive','down','qtr','yardline_100','quarter_seconds_remaining','half_seconds_remaining','game_seconds_remaining','fourth_down_converted','third_down_converted','play_type']]\n",
    "down_conv"
   ]
  },
  {
   "cell_type": "code",
   "execution_count": 12,
   "metadata": {},
   "outputs": [
    {
     "data": {
      "text/html": [
       "<div>\n",
       "<style scoped>\n",
       "    .dataframe tbody tr th:only-of-type {\n",
       "        vertical-align: middle;\n",
       "    }\n",
       "\n",
       "    .dataframe tbody tr th {\n",
       "        vertical-align: top;\n",
       "    }\n",
       "\n",
       "    .dataframe thead th {\n",
       "        text-align: right;\n",
       "    }\n",
       "</style>\n",
       "<table border=\"1\" class=\"dataframe\">\n",
       "  <thead>\n",
       "    <tr style=\"text-align: right;\">\n",
       "      <th></th>\n",
       "      <th>game_id</th>\n",
       "      <th>posteam</th>\n",
       "      <th>defteam</th>\n",
       "      <th>drive</th>\n",
       "      <th>down</th>\n",
       "      <th>qtr</th>\n",
       "      <th>yardline_100</th>\n",
       "      <th>quarter_seconds_remaining</th>\n",
       "      <th>half_seconds_remaining</th>\n",
       "      <th>game_seconds_remaining</th>\n",
       "      <th>fourth_down_converted</th>\n",
       "      <th>third_down_converted</th>\n",
       "      <th>play_type</th>\n",
       "    </tr>\n",
       "  </thead>\n",
       "  <tbody>\n",
       "    <tr>\n",
       "      <td>329</td>\n",
       "      <td>2009091304</td>\n",
       "      <td>CLE</td>\n",
       "      <td>MIN</td>\n",
       "      <td>22</td>\n",
       "      <td>4.0</td>\n",
       "      <td>4</td>\n",
       "      <td>64.0</td>\n",
       "      <td>292.0</td>\n",
       "      <td>292.0</td>\n",
       "      <td>292.0</td>\n",
       "      <td>0.0</td>\n",
       "      <td>0.0</td>\n",
       "      <td>pass</td>\n",
       "    </tr>\n",
       "    <tr>\n",
       "      <td>395</td>\n",
       "      <td>2009091307</td>\n",
       "      <td>DET</td>\n",
       "      <td>NO</td>\n",
       "      <td>8</td>\n",
       "      <td>4.0</td>\n",
       "      <td>2</td>\n",
       "      <td>4.0</td>\n",
       "      <td>851.0</td>\n",
       "      <td>851.0</td>\n",
       "      <td>2651.0</td>\n",
       "      <td>1.0</td>\n",
       "      <td>0.0</td>\n",
       "      <td>run</td>\n",
       "    </tr>\n",
       "    <tr>\n",
       "      <td>516</td>\n",
       "      <td>2009091307</td>\n",
       "      <td>DET</td>\n",
       "      <td>NO</td>\n",
       "      <td>25</td>\n",
       "      <td>4.0</td>\n",
       "      <td>4</td>\n",
       "      <td>64.0</td>\n",
       "      <td>378.0</td>\n",
       "      <td>378.0</td>\n",
       "      <td>378.0</td>\n",
       "      <td>1.0</td>\n",
       "      <td>0.0</td>\n",
       "      <td>pass</td>\n",
       "    </tr>\n",
       "    <tr>\n",
       "      <td>676</td>\n",
       "      <td>2009091308</td>\n",
       "      <td>TB</td>\n",
       "      <td>DAL</td>\n",
       "      <td>19</td>\n",
       "      <td>4.0</td>\n",
       "      <td>4</td>\n",
       "      <td>26.0</td>\n",
       "      <td>464.0</td>\n",
       "      <td>464.0</td>\n",
       "      <td>464.0</td>\n",
       "      <td>0.0</td>\n",
       "      <td>0.0</td>\n",
       "      <td>pass</td>\n",
       "    </tr>\n",
       "    <tr>\n",
       "      <td>697</td>\n",
       "      <td>2009091308</td>\n",
       "      <td>TB</td>\n",
       "      <td>DAL</td>\n",
       "      <td>21</td>\n",
       "      <td>4.0</td>\n",
       "      <td>4</td>\n",
       "      <td>2.0</td>\n",
       "      <td>91.0</td>\n",
       "      <td>91.0</td>\n",
       "      <td>91.0</td>\n",
       "      <td>1.0</td>\n",
       "      <td>0.0</td>\n",
       "      <td>pass</td>\n",
       "    </tr>\n",
       "  </tbody>\n",
       "</table>\n",
       "</div>"
      ],
      "text/plain": [
       "        game_id posteam defteam  drive  down  qtr  yardline_100  \\\n",
       "329  2009091304     CLE     MIN     22   4.0    4          64.0   \n",
       "395  2009091307     DET      NO      8   4.0    2           4.0   \n",
       "516  2009091307     DET      NO     25   4.0    4          64.0   \n",
       "676  2009091308      TB     DAL     19   4.0    4          26.0   \n",
       "697  2009091308      TB     DAL     21   4.0    4           2.0   \n",
       "\n",
       "     quarter_seconds_remaining  half_seconds_remaining  \\\n",
       "329                      292.0                   292.0   \n",
       "395                      851.0                   851.0   \n",
       "516                      378.0                   378.0   \n",
       "676                      464.0                   464.0   \n",
       "697                       91.0                    91.0   \n",
       "\n",
       "     game_seconds_remaining  fourth_down_converted  third_down_converted  \\\n",
       "329                   292.0                    0.0                   0.0   \n",
       "395                  2651.0                    1.0                   0.0   \n",
       "516                   378.0                    1.0                   0.0   \n",
       "676                   464.0                    0.0                   0.0   \n",
       "697                    91.0                    1.0                   0.0   \n",
       "\n",
       "    play_type  \n",
       "329      pass  \n",
       "395       run  \n",
       "516      pass  \n",
       "676      pass  \n",
       "697      pass  "
      ]
     },
     "execution_count": 12,
     "metadata": {},
     "output_type": "execute_result"
    }
   ],
   "source": [
    "# Filtering based on the condition that the throw must be a pass or run and the down must be fourth.\n",
    "\n",
    "down_conv = down_conv[((down_conv['play_type']=='pass') | (down_conv['play_type']=='run')) & (down_conv['down']==4.0)]\n",
    "down_conv.head()"
   ]
  },
  {
   "cell_type": "code",
   "execution_count": 13,
   "metadata": {},
   "outputs": [
    {
     "data": {
      "text/plain": [
       "pass    3006\n",
       "run     1715\n",
       "Name: play_type, dtype: int64"
      ]
     },
     "execution_count": 13,
     "metadata": {},
     "output_type": "execute_result"
    }
   ],
   "source": [
    "# Getting count of the dataset\n",
    "\n",
    "down_conv['play_type'].value_counts()"
   ]
  },
  {
   "cell_type": "markdown",
   "metadata": {},
   "source": [
    "## Data cleaning and Pre-processing"
   ]
  },
  {
   "cell_type": "code",
   "execution_count": 14,
   "metadata": {},
   "outputs": [],
   "source": [
    "#The required columns for the building of model"
   ]
  },
  {
   "cell_type": "code",
   "execution_count": 15,
   "metadata": {},
   "outputs": [
    {
     "data": {
      "text/html": [
       "<div>\n",
       "<style scoped>\n",
       "    .dataframe tbody tr th:only-of-type {\n",
       "        vertical-align: middle;\n",
       "    }\n",
       "\n",
       "    .dataframe tbody tr th {\n",
       "        vertical-align: top;\n",
       "    }\n",
       "\n",
       "    .dataframe thead th {\n",
       "        text-align: right;\n",
       "    }\n",
       "</style>\n",
       "<table border=\"1\" class=\"dataframe\">\n",
       "  <thead>\n",
       "    <tr style=\"text-align: right;\">\n",
       "      <th></th>\n",
       "      <th>posteam</th>\n",
       "      <th>defteam</th>\n",
       "      <th>drive</th>\n",
       "      <th>qtr</th>\n",
       "      <th>yardline_100</th>\n",
       "      <th>quarter_seconds_remaining</th>\n",
       "      <th>half_seconds_remaining</th>\n",
       "      <th>game_seconds_remaining</th>\n",
       "      <th>play_type</th>\n",
       "      <th>fourth_down_converted</th>\n",
       "    </tr>\n",
       "  </thead>\n",
       "  <tbody>\n",
       "    <tr>\n",
       "      <td>329</td>\n",
       "      <td>CLE</td>\n",
       "      <td>MIN</td>\n",
       "      <td>22</td>\n",
       "      <td>4</td>\n",
       "      <td>64.0</td>\n",
       "      <td>292.0</td>\n",
       "      <td>292.0</td>\n",
       "      <td>292.0</td>\n",
       "      <td>pass</td>\n",
       "      <td>0.0</td>\n",
       "    </tr>\n",
       "    <tr>\n",
       "      <td>395</td>\n",
       "      <td>DET</td>\n",
       "      <td>NO</td>\n",
       "      <td>8</td>\n",
       "      <td>2</td>\n",
       "      <td>4.0</td>\n",
       "      <td>851.0</td>\n",
       "      <td>851.0</td>\n",
       "      <td>2651.0</td>\n",
       "      <td>run</td>\n",
       "      <td>1.0</td>\n",
       "    </tr>\n",
       "    <tr>\n",
       "      <td>516</td>\n",
       "      <td>DET</td>\n",
       "      <td>NO</td>\n",
       "      <td>25</td>\n",
       "      <td>4</td>\n",
       "      <td>64.0</td>\n",
       "      <td>378.0</td>\n",
       "      <td>378.0</td>\n",
       "      <td>378.0</td>\n",
       "      <td>pass</td>\n",
       "      <td>1.0</td>\n",
       "    </tr>\n",
       "    <tr>\n",
       "      <td>676</td>\n",
       "      <td>TB</td>\n",
       "      <td>DAL</td>\n",
       "      <td>19</td>\n",
       "      <td>4</td>\n",
       "      <td>26.0</td>\n",
       "      <td>464.0</td>\n",
       "      <td>464.0</td>\n",
       "      <td>464.0</td>\n",
       "      <td>pass</td>\n",
       "      <td>0.0</td>\n",
       "    </tr>\n",
       "    <tr>\n",
       "      <td>697</td>\n",
       "      <td>TB</td>\n",
       "      <td>DAL</td>\n",
       "      <td>21</td>\n",
       "      <td>4</td>\n",
       "      <td>2.0</td>\n",
       "      <td>91.0</td>\n",
       "      <td>91.0</td>\n",
       "      <td>91.0</td>\n",
       "      <td>pass</td>\n",
       "      <td>1.0</td>\n",
       "    </tr>\n",
       "    <tr>\n",
       "      <td>783</td>\n",
       "      <td>NYJ</td>\n",
       "      <td>HOU</td>\n",
       "      <td>10</td>\n",
       "      <td>2</td>\n",
       "      <td>43.0</td>\n",
       "      <td>2.0</td>\n",
       "      <td>2.0</td>\n",
       "      <td>1802.0</td>\n",
       "      <td>pass</td>\n",
       "      <td>1.0</td>\n",
       "    </tr>\n",
       "    <tr>\n",
       "      <td>813</td>\n",
       "      <td>HOU</td>\n",
       "      <td>NYJ</td>\n",
       "      <td>14</td>\n",
       "      <td>3</td>\n",
       "      <td>51.0</td>\n",
       "      <td>217.0</td>\n",
       "      <td>1117.0</td>\n",
       "      <td>1117.0</td>\n",
       "      <td>pass</td>\n",
       "      <td>0.0</td>\n",
       "    </tr>\n",
       "    <tr>\n",
       "      <td>860</td>\n",
       "      <td>NYJ</td>\n",
       "      <td>HOU</td>\n",
       "      <td>20</td>\n",
       "      <td>4</td>\n",
       "      <td>29.0</td>\n",
       "      <td>120.0</td>\n",
       "      <td>120.0</td>\n",
       "      <td>120.0</td>\n",
       "      <td>run</td>\n",
       "      <td>1.0</td>\n",
       "    </tr>\n",
       "    <tr>\n",
       "      <td>942</td>\n",
       "      <td>IND</td>\n",
       "      <td>JAC</td>\n",
       "      <td>7</td>\n",
       "      <td>2</td>\n",
       "      <td>54.0</td>\n",
       "      <td>8.0</td>\n",
       "      <td>8.0</td>\n",
       "      <td>1808.0</td>\n",
       "      <td>pass</td>\n",
       "      <td>0.0</td>\n",
       "    </tr>\n",
       "    <tr>\n",
       "      <td>995</td>\n",
       "      <td>JAC</td>\n",
       "      <td>IND</td>\n",
       "      <td>15</td>\n",
       "      <td>4</td>\n",
       "      <td>7.0</td>\n",
       "      <td>672.0</td>\n",
       "      <td>672.0</td>\n",
       "      <td>672.0</td>\n",
       "      <td>run</td>\n",
       "      <td>1.0</td>\n",
       "    </tr>\n",
       "  </tbody>\n",
       "</table>\n",
       "</div>"
      ],
      "text/plain": [
       "    posteam defteam  drive  qtr  yardline_100  quarter_seconds_remaining  \\\n",
       "329     CLE     MIN     22    4          64.0                      292.0   \n",
       "395     DET      NO      8    2           4.0                      851.0   \n",
       "516     DET      NO     25    4          64.0                      378.0   \n",
       "676      TB     DAL     19    4          26.0                      464.0   \n",
       "697      TB     DAL     21    4           2.0                       91.0   \n",
       "783     NYJ     HOU     10    2          43.0                        2.0   \n",
       "813     HOU     NYJ     14    3          51.0                      217.0   \n",
       "860     NYJ     HOU     20    4          29.0                      120.0   \n",
       "942     IND     JAC      7    2          54.0                        8.0   \n",
       "995     JAC     IND     15    4           7.0                      672.0   \n",
       "\n",
       "     half_seconds_remaining  game_seconds_remaining play_type  \\\n",
       "329                   292.0                   292.0      pass   \n",
       "395                   851.0                  2651.0       run   \n",
       "516                   378.0                   378.0      pass   \n",
       "676                   464.0                   464.0      pass   \n",
       "697                    91.0                    91.0      pass   \n",
       "783                     2.0                  1802.0      pass   \n",
       "813                  1117.0                  1117.0      pass   \n",
       "860                   120.0                   120.0       run   \n",
       "942                     8.0                  1808.0      pass   \n",
       "995                   672.0                   672.0       run   \n",
       "\n",
       "     fourth_down_converted  \n",
       "329                    0.0  \n",
       "395                    1.0  \n",
       "516                    1.0  \n",
       "676                    0.0  \n",
       "697                    1.0  \n",
       "783                    1.0  \n",
       "813                    0.0  \n",
       "860                    1.0  \n",
       "942                    0.0  \n",
       "995                    1.0  "
      ]
     },
     "execution_count": 15,
     "metadata": {},
     "output_type": "execute_result"
    }
   ],
   "source": [
    "model_data = down_conv[['posteam','defteam','drive','qtr','yardline_100','quarter_seconds_remaining','half_seconds_remaining',\n",
    "                       'game_seconds_remaining','play_type','fourth_down_converted']]\n",
    "model_data.head(10)"
   ]
  },
  {
   "cell_type": "code",
   "execution_count": 16,
   "metadata": {},
   "outputs": [
    {
     "data": {
      "text/plain": [
       "posteam                      0\n",
       "defteam                      0\n",
       "drive                        0\n",
       "qtr                          0\n",
       "yardline_100                 0\n",
       "quarter_seconds_remaining    0\n",
       "half_seconds_remaining       0\n",
       "game_seconds_remaining       0\n",
       "play_type                    0\n",
       "fourth_down_converted        0\n",
       "dtype: int64"
      ]
     },
     "execution_count": 16,
     "metadata": {},
     "output_type": "execute_result"
    }
   ],
   "source": [
    "# Checking for null values in the dataset\n",
    "\n",
    "model_data.isnull().sum()"
   ]
  },
  {
   "cell_type": "code",
   "execution_count": 17,
   "metadata": {},
   "outputs": [
    {
     "name": "stderr",
     "output_type": "stream",
     "text": [
      "C:\\Users\\OYO\\Anaconda3\\lib\\site-packages\\ipykernel_launcher.py:9: SettingWithCopyWarning: \n",
      "A value is trying to be set on a copy of a slice from a DataFrame.\n",
      "Try using .loc[row_indexer,col_indexer] = value instead\n",
      "\n",
      "See the caveats in the documentation: http://pandas.pydata.org/pandas-docs/stable/user_guide/indexing.html#returning-a-view-versus-a-copy\n",
      "  if __name__ == '__main__':\n",
      "C:\\Users\\OYO\\Anaconda3\\lib\\site-packages\\ipykernel_launcher.py:10: SettingWithCopyWarning: \n",
      "A value is trying to be set on a copy of a slice from a DataFrame.\n",
      "Try using .loc[row_indexer,col_indexer] = value instead\n",
      "\n",
      "See the caveats in the documentation: http://pandas.pydata.org/pandas-docs/stable/user_guide/indexing.html#returning-a-view-versus-a-copy\n",
      "  # Remove the CWD from sys.path while we load stuff.\n",
      "C:\\Users\\OYO\\Anaconda3\\lib\\site-packages\\ipykernel_launcher.py:11: SettingWithCopyWarning: \n",
      "A value is trying to be set on a copy of a slice from a DataFrame.\n",
      "Try using .loc[row_indexer,col_indexer] = value instead\n",
      "\n",
      "See the caveats in the documentation: http://pandas.pydata.org/pandas-docs/stable/user_guide/indexing.html#returning-a-view-versus-a-copy\n",
      "  # This is added back by InteractiveShellApp.init_path()\n"
     ]
    }
   ],
   "source": [
    "# Label encoding the posteam and defteam and play_type\n",
    "\n",
    "from sklearn.preprocessing import LabelEncoder\n",
    "\n",
    "label = LabelEncoder()\n",
    "pos_team = label.fit_transform(model_data['posteam'])\n",
    "def_team = label.fit_transform(model_data['defteam'])\n",
    "play_type = label.fit_transform(model_data['play_type'])\n",
    "model_data['def_team'] = def_team\n",
    "model_data['pos_team'] = pos_team\n",
    "model_data['play_type'] = play_type"
   ]
  },
  {
   "cell_type": "code",
   "execution_count": 18,
   "metadata": {},
   "outputs": [
    {
     "name": "stderr",
     "output_type": "stream",
     "text": [
      "C:\\Users\\OYO\\Anaconda3\\lib\\site-packages\\pandas\\core\\frame.py:4102: SettingWithCopyWarning: \n",
      "A value is trying to be set on a copy of a slice from a DataFrame\n",
      "\n",
      "See the caveats in the documentation: http://pandas.pydata.org/pandas-docs/stable/user_guide/indexing.html#returning-a-view-versus-a-copy\n",
      "  errors=errors,\n"
     ]
    },
    {
     "data": {
      "text/html": [
       "<div>\n",
       "<style scoped>\n",
       "    .dataframe tbody tr th:only-of-type {\n",
       "        vertical-align: middle;\n",
       "    }\n",
       "\n",
       "    .dataframe tbody tr th {\n",
       "        vertical-align: top;\n",
       "    }\n",
       "\n",
       "    .dataframe thead th {\n",
       "        text-align: right;\n",
       "    }\n",
       "</style>\n",
       "<table border=\"1\" class=\"dataframe\">\n",
       "  <thead>\n",
       "    <tr style=\"text-align: right;\">\n",
       "      <th></th>\n",
       "      <th>drive</th>\n",
       "      <th>qtr</th>\n",
       "      <th>yardline_100</th>\n",
       "      <th>quarter_seconds_remaining</th>\n",
       "      <th>half_seconds_remaining</th>\n",
       "      <th>game_seconds_remaining</th>\n",
       "      <th>play_type</th>\n",
       "      <th>fourth_down_converted</th>\n",
       "      <th>def_team</th>\n",
       "      <th>pos_team</th>\n",
       "    </tr>\n",
       "  </thead>\n",
       "  <tbody>\n",
       "    <tr>\n",
       "      <td>329</td>\n",
       "      <td>22</td>\n",
       "      <td>4</td>\n",
       "      <td>64.0</td>\n",
       "      <td>292.0</td>\n",
       "      <td>292.0</td>\n",
       "      <td>292.0</td>\n",
       "      <td>0</td>\n",
       "      <td>0.0</td>\n",
       "      <td>20</td>\n",
       "      <td>7</td>\n",
       "    </tr>\n",
       "    <tr>\n",
       "      <td>395</td>\n",
       "      <td>8</td>\n",
       "      <td>2</td>\n",
       "      <td>4.0</td>\n",
       "      <td>851.0</td>\n",
       "      <td>851.0</td>\n",
       "      <td>2651.0</td>\n",
       "      <td>1</td>\n",
       "      <td>1.0</td>\n",
       "      <td>22</td>\n",
       "      <td>10</td>\n",
       "    </tr>\n",
       "    <tr>\n",
       "      <td>516</td>\n",
       "      <td>25</td>\n",
       "      <td>4</td>\n",
       "      <td>64.0</td>\n",
       "      <td>378.0</td>\n",
       "      <td>378.0</td>\n",
       "      <td>378.0</td>\n",
       "      <td>0</td>\n",
       "      <td>1.0</td>\n",
       "      <td>22</td>\n",
       "      <td>10</td>\n",
       "    </tr>\n",
       "    <tr>\n",
       "      <td>676</td>\n",
       "      <td>19</td>\n",
       "      <td>4</td>\n",
       "      <td>26.0</td>\n",
       "      <td>464.0</td>\n",
       "      <td>464.0</td>\n",
       "      <td>464.0</td>\n",
       "      <td>0</td>\n",
       "      <td>0.0</td>\n",
       "      <td>8</td>\n",
       "      <td>32</td>\n",
       "    </tr>\n",
       "    <tr>\n",
       "      <td>697</td>\n",
       "      <td>21</td>\n",
       "      <td>4</td>\n",
       "      <td>2.0</td>\n",
       "      <td>91.0</td>\n",
       "      <td>91.0</td>\n",
       "      <td>91.0</td>\n",
       "      <td>0</td>\n",
       "      <td>1.0</td>\n",
       "      <td>8</td>\n",
       "      <td>32</td>\n",
       "    </tr>\n",
       "  </tbody>\n",
       "</table>\n",
       "</div>"
      ],
      "text/plain": [
       "     drive  qtr  yardline_100  quarter_seconds_remaining  \\\n",
       "329     22    4          64.0                      292.0   \n",
       "395      8    2           4.0                      851.0   \n",
       "516     25    4          64.0                      378.0   \n",
       "676     19    4          26.0                      464.0   \n",
       "697     21    4           2.0                       91.0   \n",
       "\n",
       "     half_seconds_remaining  game_seconds_remaining  play_type  \\\n",
       "329                   292.0                   292.0          0   \n",
       "395                   851.0                  2651.0          1   \n",
       "516                   378.0                   378.0          0   \n",
       "676                   464.0                   464.0          0   \n",
       "697                    91.0                    91.0          0   \n",
       "\n",
       "     fourth_down_converted  def_team  pos_team  \n",
       "329                    0.0        20         7  \n",
       "395                    1.0        22        10  \n",
       "516                    1.0        22        10  \n",
       "676                    0.0         8        32  \n",
       "697                    1.0         8        32  "
      ]
     },
     "execution_count": 18,
     "metadata": {},
     "output_type": "execute_result"
    }
   ],
   "source": [
    "model_data.drop(['posteam','defteam'],axis=1, inplace=True)\n",
    "model_data.head()"
   ]
  },
  {
   "cell_type": "code",
   "execution_count": 16,
   "metadata": {},
   "outputs": [
    {
     "name": "stderr",
     "output_type": "stream",
     "text": [
      "C:\\Users\\OYO\\Anaconda3\\lib\\site-packages\\ipykernel_launcher.py:8: SettingWithCopyWarning: \n",
      "A value is trying to be set on a copy of a slice from a DataFrame.\n",
      "Try using .loc[row_indexer,col_indexer] = value instead\n",
      "\n",
      "See the caveats in the documentation: http://pandas.pydata.org/pandas-docs/stable/user_guide/indexing.html#returning-a-view-versus-a-copy\n",
      "  \n",
      "C:\\Users\\OYO\\Anaconda3\\lib\\site-packages\\pandas\\core\\indexing.py:494: SettingWithCopyWarning: \n",
      "A value is trying to be set on a copy of a slice from a DataFrame.\n",
      "Try using .loc[row_indexer,col_indexer] = value instead\n",
      "\n",
      "See the caveats in the documentation: http://pandas.pydata.org/pandas-docs/stable/user_guide/indexing.html#returning-a-view-versus-a-copy\n",
      "  self.obj[item] = s\n"
     ]
    },
    {
     "data": {
      "text/html": [
       "<div>\n",
       "<style scoped>\n",
       "    .dataframe tbody tr th:only-of-type {\n",
       "        vertical-align: middle;\n",
       "    }\n",
       "\n",
       "    .dataframe tbody tr th {\n",
       "        vertical-align: top;\n",
       "    }\n",
       "\n",
       "    .dataframe thead th {\n",
       "        text-align: right;\n",
       "    }\n",
       "</style>\n",
       "<table border=\"1\" class=\"dataframe\">\n",
       "  <thead>\n",
       "    <tr style=\"text-align: right;\">\n",
       "      <th></th>\n",
       "      <th>drive</th>\n",
       "      <th>qtr</th>\n",
       "      <th>yardline_100</th>\n",
       "      <th>quarter_seconds_remaining</th>\n",
       "      <th>half_seconds_remaining</th>\n",
       "      <th>game_seconds_remaining</th>\n",
       "      <th>play_type</th>\n",
       "      <th>fourth_down_converted</th>\n",
       "      <th>def_team</th>\n",
       "      <th>pos_team</th>\n",
       "    </tr>\n",
       "  </thead>\n",
       "  <tbody>\n",
       "    <tr>\n",
       "      <td>329</td>\n",
       "      <td>0.813288</td>\n",
       "      <td>0.735019</td>\n",
       "      <td>1.263296</td>\n",
       "      <td>-0.124215</td>\n",
       "      <td>-0.512052</td>\n",
       "      <td>-0.720466</td>\n",
       "      <td>-0.755331</td>\n",
       "      <td>0.0</td>\n",
       "      <td>0.314693</td>\n",
       "      <td>-0.942742</td>\n",
       "    </tr>\n",
       "    <tr>\n",
       "      <td>395</td>\n",
       "      <td>-1.106273</td>\n",
       "      <td>-1.121602</td>\n",
       "      <td>-1.461888</td>\n",
       "      <td>2.043527</td>\n",
       "      <td>0.610105</td>\n",
       "      <td>1.541124</td>\n",
       "      <td>1.323922</td>\n",
       "      <td>1.0</td>\n",
       "      <td>0.508822</td>\n",
       "      <td>-0.654597</td>\n",
       "    </tr>\n",
       "    <tr>\n",
       "      <td>516</td>\n",
       "      <td>1.224623</td>\n",
       "      <td>0.735019</td>\n",
       "      <td>1.263296</td>\n",
       "      <td>0.209284</td>\n",
       "      <td>-0.339413</td>\n",
       "      <td>-0.638018</td>\n",
       "      <td>-0.755331</td>\n",
       "      <td>1.0</td>\n",
       "      <td>0.508822</td>\n",
       "      <td>-0.654597</td>\n",
       "    </tr>\n",
       "    <tr>\n",
       "      <td>676</td>\n",
       "      <td>0.401954</td>\n",
       "      <td>0.735019</td>\n",
       "      <td>-0.462654</td>\n",
       "      <td>0.542783</td>\n",
       "      <td>-0.166773</td>\n",
       "      <td>-0.555569</td>\n",
       "      <td>-0.755331</td>\n",
       "      <td>0.0</td>\n",
       "      <td>-0.850079</td>\n",
       "      <td>1.458464</td>\n",
       "    </tr>\n",
       "    <tr>\n",
       "      <td>697</td>\n",
       "      <td>0.676177</td>\n",
       "      <td>0.735019</td>\n",
       "      <td>-1.552728</td>\n",
       "      <td>-0.903671</td>\n",
       "      <td>-0.915547</td>\n",
       "      <td>-0.913167</td>\n",
       "      <td>-0.755331</td>\n",
       "      <td>1.0</td>\n",
       "      <td>-0.850079</td>\n",
       "      <td>1.458464</td>\n",
       "    </tr>\n",
       "  </tbody>\n",
       "</table>\n",
       "</div>"
      ],
      "text/plain": [
       "        drive       qtr  yardline_100  quarter_seconds_remaining  \\\n",
       "329  0.813288  0.735019      1.263296                  -0.124215   \n",
       "395 -1.106273 -1.121602     -1.461888                   2.043527   \n",
       "516  1.224623  0.735019      1.263296                   0.209284   \n",
       "676  0.401954  0.735019     -0.462654                   0.542783   \n",
       "697  0.676177  0.735019     -1.552728                  -0.903671   \n",
       "\n",
       "     half_seconds_remaining  game_seconds_remaining  play_type  \\\n",
       "329               -0.512052               -0.720466  -0.755331   \n",
       "395                0.610105                1.541124   1.323922   \n",
       "516               -0.339413               -0.638018  -0.755331   \n",
       "676               -0.166773               -0.555569  -0.755331   \n",
       "697               -0.915547               -0.913167  -0.755331   \n",
       "\n",
       "     fourth_down_converted  def_team  pos_team  \n",
       "329                    0.0  0.314693 -0.942742  \n",
       "395                    1.0  0.508822 -0.654597  \n",
       "516                    1.0  0.508822 -0.654597  \n",
       "676                    0.0 -0.850079  1.458464  \n",
       "697                    1.0 -0.850079  1.458464  "
      ]
     },
     "execution_count": 16,
     "metadata": {},
     "output_type": "execute_result"
    }
   ],
   "source": [
    "# Scaling the data\n",
    "\n",
    "from sklearn.preprocessing import StandardScaler\n",
    "scaler = StandardScaler()\n",
    "\n",
    "model_data[['pos_team','def_team','drive','qtr','yardline_100','quarter_seconds_remaining','half_seconds_remaining',\n",
    "                       'game_seconds_remaining','play_type']] = scaler.fit_transform(model_data[['pos_team','def_team','drive','qtr','yardline_100','quarter_seconds_remaining','half_seconds_remaining',\n",
    "                       'game_seconds_remaining','play_type']])\n",
    "model_data.head()"
   ]
  },
  {
   "cell_type": "code",
   "execution_count": 19,
   "metadata": {},
   "outputs": [
    {
     "data": {
      "text/html": [
       "<div>\n",
       "<style scoped>\n",
       "    .dataframe tbody tr th:only-of-type {\n",
       "        vertical-align: middle;\n",
       "    }\n",
       "\n",
       "    .dataframe tbody tr th {\n",
       "        vertical-align: top;\n",
       "    }\n",
       "\n",
       "    .dataframe thead th {\n",
       "        text-align: right;\n",
       "    }\n",
       "</style>\n",
       "<table border=\"1\" class=\"dataframe\">\n",
       "  <thead>\n",
       "    <tr style=\"text-align: right;\">\n",
       "      <th></th>\n",
       "      <th>drive</th>\n",
       "      <th>qtr</th>\n",
       "      <th>yardline_100</th>\n",
       "      <th>quarter_seconds_remaining</th>\n",
       "      <th>half_seconds_remaining</th>\n",
       "      <th>game_seconds_remaining</th>\n",
       "      <th>play_type</th>\n",
       "      <th>fourth_down_converted</th>\n",
       "      <th>def_team</th>\n",
       "      <th>pos_team</th>\n",
       "    </tr>\n",
       "  </thead>\n",
       "  <tbody>\n",
       "    <tr>\n",
       "      <td>drive</td>\n",
       "      <td>1.000000</td>\n",
       "      <td>0.903774</td>\n",
       "      <td>0.193816</td>\n",
       "      <td>-0.381630</td>\n",
       "      <td>-0.594505</td>\n",
       "      <td>-0.925895</td>\n",
       "      <td>-0.320739</td>\n",
       "      <td>-0.155268</td>\n",
       "      <td>-0.026479</td>\n",
       "      <td>0.011447</td>\n",
       "    </tr>\n",
       "    <tr>\n",
       "      <td>qtr</td>\n",
       "      <td>0.903774</td>\n",
       "      <td>1.000000</td>\n",
       "      <td>0.150194</td>\n",
       "      <td>-0.192813</td>\n",
       "      <td>-0.545880</td>\n",
       "      <td>-0.966194</td>\n",
       "      <td>-0.305861</td>\n",
       "      <td>-0.144263</td>\n",
       "      <td>-0.027312</td>\n",
       "      <td>0.011550</td>\n",
       "    </tr>\n",
       "    <tr>\n",
       "      <td>yardline_100</td>\n",
       "      <td>0.193816</td>\n",
       "      <td>0.150194</td>\n",
       "      <td>1.000000</td>\n",
       "      <td>-0.126093</td>\n",
       "      <td>-0.144653</td>\n",
       "      <td>-0.167592</td>\n",
       "      <td>-0.115750</td>\n",
       "      <td>-0.022847</td>\n",
       "      <td>-0.028496</td>\n",
       "      <td>0.007269</td>\n",
       "    </tr>\n",
       "    <tr>\n",
       "      <td>quarter_seconds_remaining</td>\n",
       "      <td>-0.381630</td>\n",
       "      <td>-0.192813</td>\n",
       "      <td>-0.126093</td>\n",
       "      <td>1.000000</td>\n",
       "      <td>0.637004</td>\n",
       "      <td>0.428591</td>\n",
       "      <td>0.207151</td>\n",
       "      <td>0.108667</td>\n",
       "      <td>0.032296</td>\n",
       "      <td>0.000221</td>\n",
       "    </tr>\n",
       "    <tr>\n",
       "      <td>half_seconds_remaining</td>\n",
       "      <td>-0.594505</td>\n",
       "      <td>-0.545880</td>\n",
       "      <td>-0.144653</td>\n",
       "      <td>0.637004</td>\n",
       "      <td>1.000000</td>\n",
       "      <td>0.663030</td>\n",
       "      <td>0.288636</td>\n",
       "      <td>0.143952</td>\n",
       "      <td>0.020889</td>\n",
       "      <td>-0.016312</td>\n",
       "    </tr>\n",
       "    <tr>\n",
       "      <td>game_seconds_remaining</td>\n",
       "      <td>-0.925895</td>\n",
       "      <td>-0.966194</td>\n",
       "      <td>-0.167592</td>\n",
       "      <td>0.428591</td>\n",
       "      <td>0.663030</td>\n",
       "      <td>1.000000</td>\n",
       "      <td>0.335471</td>\n",
       "      <td>0.160285</td>\n",
       "      <td>0.034501</td>\n",
       "      <td>-0.010863</td>\n",
       "    </tr>\n",
       "    <tr>\n",
       "      <td>play_type</td>\n",
       "      <td>-0.320739</td>\n",
       "      <td>-0.305861</td>\n",
       "      <td>-0.115750</td>\n",
       "      <td>0.207151</td>\n",
       "      <td>0.288636</td>\n",
       "      <td>0.335471</td>\n",
       "      <td>1.000000</td>\n",
       "      <td>0.205841</td>\n",
       "      <td>0.027839</td>\n",
       "      <td>-0.012658</td>\n",
       "    </tr>\n",
       "    <tr>\n",
       "      <td>fourth_down_converted</td>\n",
       "      <td>-0.155268</td>\n",
       "      <td>-0.144263</td>\n",
       "      <td>-0.022847</td>\n",
       "      <td>0.108667</td>\n",
       "      <td>0.143952</td>\n",
       "      <td>0.160285</td>\n",
       "      <td>0.205841</td>\n",
       "      <td>1.000000</td>\n",
       "      <td>-0.019120</td>\n",
       "      <td>-0.005011</td>\n",
       "    </tr>\n",
       "    <tr>\n",
       "      <td>def_team</td>\n",
       "      <td>-0.026479</td>\n",
       "      <td>-0.027312</td>\n",
       "      <td>-0.028496</td>\n",
       "      <td>0.032296</td>\n",
       "      <td>0.020889</td>\n",
       "      <td>0.034501</td>\n",
       "      <td>0.027839</td>\n",
       "      <td>-0.019120</td>\n",
       "      <td>1.000000</td>\n",
       "      <td>-0.050912</td>\n",
       "    </tr>\n",
       "    <tr>\n",
       "      <td>pos_team</td>\n",
       "      <td>0.011447</td>\n",
       "      <td>0.011550</td>\n",
       "      <td>0.007269</td>\n",
       "      <td>0.000221</td>\n",
       "      <td>-0.016312</td>\n",
       "      <td>-0.010863</td>\n",
       "      <td>-0.012658</td>\n",
       "      <td>-0.005011</td>\n",
       "      <td>-0.050912</td>\n",
       "      <td>1.000000</td>\n",
       "    </tr>\n",
       "  </tbody>\n",
       "</table>\n",
       "</div>"
      ],
      "text/plain": [
       "                              drive       qtr  yardline_100  \\\n",
       "drive                      1.000000  0.903774      0.193816   \n",
       "qtr                        0.903774  1.000000      0.150194   \n",
       "yardline_100               0.193816  0.150194      1.000000   \n",
       "quarter_seconds_remaining -0.381630 -0.192813     -0.126093   \n",
       "half_seconds_remaining    -0.594505 -0.545880     -0.144653   \n",
       "game_seconds_remaining    -0.925895 -0.966194     -0.167592   \n",
       "play_type                 -0.320739 -0.305861     -0.115750   \n",
       "fourth_down_converted     -0.155268 -0.144263     -0.022847   \n",
       "def_team                  -0.026479 -0.027312     -0.028496   \n",
       "pos_team                   0.011447  0.011550      0.007269   \n",
       "\n",
       "                           quarter_seconds_remaining  half_seconds_remaining  \\\n",
       "drive                                      -0.381630               -0.594505   \n",
       "qtr                                        -0.192813               -0.545880   \n",
       "yardline_100                               -0.126093               -0.144653   \n",
       "quarter_seconds_remaining                   1.000000                0.637004   \n",
       "half_seconds_remaining                      0.637004                1.000000   \n",
       "game_seconds_remaining                      0.428591                0.663030   \n",
       "play_type                                   0.207151                0.288636   \n",
       "fourth_down_converted                       0.108667                0.143952   \n",
       "def_team                                    0.032296                0.020889   \n",
       "pos_team                                    0.000221               -0.016312   \n",
       "\n",
       "                           game_seconds_remaining  play_type  \\\n",
       "drive                                   -0.925895  -0.320739   \n",
       "qtr                                     -0.966194  -0.305861   \n",
       "yardline_100                            -0.167592  -0.115750   \n",
       "quarter_seconds_remaining                0.428591   0.207151   \n",
       "half_seconds_remaining                   0.663030   0.288636   \n",
       "game_seconds_remaining                   1.000000   0.335471   \n",
       "play_type                                0.335471   1.000000   \n",
       "fourth_down_converted                    0.160285   0.205841   \n",
       "def_team                                 0.034501   0.027839   \n",
       "pos_team                                -0.010863  -0.012658   \n",
       "\n",
       "                           fourth_down_converted  def_team  pos_team  \n",
       "drive                                  -0.155268 -0.026479  0.011447  \n",
       "qtr                                    -0.144263 -0.027312  0.011550  \n",
       "yardline_100                           -0.022847 -0.028496  0.007269  \n",
       "quarter_seconds_remaining               0.108667  0.032296  0.000221  \n",
       "half_seconds_remaining                  0.143952  0.020889 -0.016312  \n",
       "game_seconds_remaining                  0.160285  0.034501 -0.010863  \n",
       "play_type                               0.205841  0.027839 -0.012658  \n",
       "fourth_down_converted                   1.000000 -0.019120 -0.005011  \n",
       "def_team                               -0.019120  1.000000 -0.050912  \n",
       "pos_team                               -0.005011 -0.050912  1.000000  "
      ]
     },
     "execution_count": 19,
     "metadata": {},
     "output_type": "execute_result"
    }
   ],
   "source": [
    "# Checking correlation \n",
    "\n",
    "model_data.corr()"
   ]
  },
  {
   "cell_type": "code",
   "execution_count": 20,
   "metadata": {},
   "outputs": [
    {
     "data": {
      "image/png": "[encoded data removed]",
      "text/plain": [
       "<Figure size 1440x1080 with 12 Axes>"
      ]
     },
     "metadata": {
      "needs_background": "light"
     },
     "output_type": "display_data"
    }
   ],
   "source": [
    "# Plot a histogram to look at the type of data we are dealing with.\n",
    "\n",
    "import matplotlib.pyplot as plt\n",
    "import seaborn as sns\n",
    "%matplotlib inline\n",
    "\n",
    "model_data.hist(bins=50, figsize = (20,15))\n",
    "plt.show()\n"
   ]
  },
  {
   "cell_type": "code",
   "execution_count": 21,
   "metadata": {},
   "outputs": [],
   "source": [
    "# Getting the target and features\n",
    "\n",
    "X = model_data.drop('fourth_down_converted', axis = 1)\n",
    "y = model_data['fourth_down_converted']"
   ]
  },
  {
   "cell_type": "code",
   "execution_count": 22,
   "metadata": {},
   "outputs": [],
   "source": [
    "# Dividing the dataset into train and test sets\n",
    "\n",
    "from sklearn.model_selection import train_test_split\n",
    "X_train, X_test, y_train, y_test = train_test_split(X,y, test_size = 0.2, random_state=42)"
   ]
  },
  {
   "cell_type": "markdown",
   "metadata": {},
   "source": [
    "## Model Selection and model fitting"
   ]
  },
  {
   "cell_type": "markdown",
   "metadata": {},
   "source": [
    "### Support Vector Classifier"
   ]
  },
  {
   "cell_type": "code",
   "execution_count": 23,
   "metadata": {},
   "outputs": [
    {
     "data": {
      "text/plain": [
       "0.6222222222222222"
      ]
     },
     "execution_count": 23,
     "metadata": {},
     "output_type": "execute_result"
    }
   ],
   "source": [
    "from sklearn.svm import SVC\n",
    "clf_svm = SVC(random_state=42,kernel='linear')\n",
    "clf_svm.fit(X_train, y_train)\n",
    "\n",
    "y_pred_svm = clf_svm.predict(X_test)\n",
    "\n",
    "from sklearn.metrics import accuracy_score\n",
    "accuracy_score(y_test, y_pred_svm)"
   ]
  },
  {
   "cell_type": "markdown",
   "metadata": {},
   "source": [
    "### KNN Classifier"
   ]
  },
  {
   "cell_type": "code",
   "execution_count": 24,
   "metadata": {},
   "outputs": [
    {
     "data": {
      "text/plain": [
       "0.5216931216931217"
      ]
     },
     "execution_count": 24,
     "metadata": {},
     "output_type": "execute_result"
    }
   ],
   "source": [
    "from sklearn.neighbors import KNeighborsClassifier\n",
    "clf_knn = KNeighborsClassifier(n_neighbors=13)\n",
    "clf_knn.fit(X_train, y_train)\n",
    "\n",
    "y_pred_knn = clf_knn.predict(X_test)\n",
    "accuracy_score(y_test, y_pred_knn)"
   ]
  },
  {
   "cell_type": "markdown",
   "metadata": {},
   "source": [
    "### Logistic Regression"
   ]
  },
  {
   "cell_type": "code",
   "execution_count": 25,
   "metadata": {},
   "outputs": [
    {
     "name": "stderr",
     "output_type": "stream",
     "text": [
      "C:\\Users\\OYO\\Anaconda3\\lib\\site-packages\\sklearn\\linear_model\\logistic.py:432: FutureWarning: Default solver will be changed to 'lbfgs' in 0.22. Specify a solver to silence this warning.\n",
      "  FutureWarning)\n"
     ]
    },
    {
     "data": {
      "text/plain": [
       "0.6296296296296297"
      ]
     },
     "execution_count": 25,
     "metadata": {},
     "output_type": "execute_result"
    }
   ],
   "source": [
    "from sklearn.linear_model import LogisticRegression\n",
    "clf_lr = LogisticRegression(random_state=42, max_iter=100)\n",
    "clf_lr.fit(X_train,y_train)\n",
    "\n",
    "y_pred_lr = clf_lr.predict(X_test)\n",
    "accuracy_score(y_test, y_pred_lr)"
   ]
  },
  {
   "cell_type": "markdown",
   "metadata": {},
   "source": [
    "### Decision Tree Classifier"
   ]
  },
  {
   "cell_type": "code",
   "execution_count": 26,
   "metadata": {},
   "outputs": [
    {
     "data": {
      "text/plain": [
       "0.5428571428571428"
      ]
     },
     "execution_count": 26,
     "metadata": {},
     "output_type": "execute_result"
    }
   ],
   "source": [
    "from sklearn.tree import DecisionTreeClassifier\n",
    "clf_tree = DecisionTreeClassifier(random_state=42)\n",
    "clf_tree.fit(X_train, y_train)\n",
    "\n",
    "y_pred_tree = clf_tree.predict(X_test)\n",
    "accuracy_score(y_test, y_pred_tree)"
   ]
  },
  {
   "cell_type": "markdown",
   "metadata": {},
   "source": [
    "### Random Forest Classifier"
   ]
  },
  {
   "cell_type": "code",
   "execution_count": 27,
   "metadata": {},
   "outputs": [
    {
     "data": {
      "text/plain": [
       "0.5978835978835979"
      ]
     },
     "execution_count": 27,
     "metadata": {},
     "output_type": "execute_result"
    }
   ],
   "source": [
    "from sklearn.ensemble import RandomForestClassifier\n",
    "clf_rf = RandomForestClassifier(n_estimators=300)\n",
    "clf_rf.fit(X_train, y_train)\n",
    "\n",
    "y_pred_rf = clf_rf.predict(X_test)\n",
    "accuracy_score(y_test, y_pred_rf)"
   ]
  },
  {
   "cell_type": "markdown",
   "metadata": {},
   "source": [
    "### Adaboost Classifier"
   ]
  },
  {
   "cell_type": "code",
   "execution_count": 28,
   "metadata": {},
   "outputs": [
    {
     "data": {
      "text/plain": [
       "0.6095238095238096"
      ]
     },
     "execution_count": 28,
     "metadata": {},
     "output_type": "execute_result"
    }
   ],
   "source": [
    "from sklearn.ensemble import AdaBoostClassifier\n",
    "ab = AdaBoostClassifier(n_estimators=100)\n",
    "ab.fit(X_train, y_train)\n",
    "\n",
    "y_pred_ab = ab.predict(X_test)\n",
    "accuracy_score(y_test, y_pred_ab)"
   ]
  },
  {
   "cell_type": "markdown",
   "metadata": {},
   "source": [
    "### Using Cross Validation"
   ]
  },
  {
   "cell_type": "code",
   "execution_count": 30,
   "metadata": {},
   "outputs": [
    {
     "name": "stderr",
     "output_type": "stream",
     "text": [
      "C:\\Users\\OYO\\Anaconda3\\lib\\site-packages\\sklearn\\linear_model\\logistic.py:432: FutureWarning: Default solver will be changed to 'lbfgs' in 0.22. Specify a solver to silence this warning.\n",
      "  FutureWarning)\n"
     ]
    },
    {
     "data": {
      "text/plain": [
       "0.6306878306878307"
      ]
     },
     "execution_count": 30,
     "metadata": {},
     "output_type": "execute_result"
    }
   ],
   "source": [
    "#Scaling the train and test set and applying on Logistic Regression\n",
    "\n",
    "from sklearn.preprocessing import StandardScaler\n",
    "scalar = StandardScaler()\n",
    "X_train2 = scalar.fit_transform(X_train)\n",
    "X_test2 = scalar.fit_transform(X_test)\n",
    "\n",
    "clf_lr2 = LogisticRegression(random_state=42, max_iter=100)\n",
    "clf_lr2.fit(X_train2,y_train)\n",
    "y_pred_lr2 = clf_lr2.predict(X_test2)\n",
    "accuracy_score(y_test, y_pred_lr2)"
   ]
  },
  {
   "cell_type": "code",
   "execution_count": 31,
   "metadata": {},
   "outputs": [
    {
     "name": "stdout",
     "output_type": "stream",
     "text": [
      "0.5972055300263147\n",
      "0.597470080290865\n"
     ]
    },
    {
     "name": "stderr",
     "output_type": "stream",
     "text": [
      "C:\\Users\\OYO\\Anaconda3\\lib\\site-packages\\sklearn\\linear_model\\logistic.py:432: FutureWarning: Default solver will be changed to 'lbfgs' in 0.22. Specify a solver to silence this warning.\n",
      "  FutureWarning)\n",
      "C:\\Users\\OYO\\Anaconda3\\lib\\site-packages\\sklearn\\linear_model\\logistic.py:432: FutureWarning: Default solver will be changed to 'lbfgs' in 0.22. Specify a solver to silence this warning.\n",
      "  FutureWarning)\n",
      "C:\\Users\\OYO\\Anaconda3\\lib\\site-packages\\sklearn\\linear_model\\logistic.py:432: FutureWarning: Default solver will be changed to 'lbfgs' in 0.22. Specify a solver to silence this warning.\n",
      "  FutureWarning)\n",
      "C:\\Users\\OYO\\Anaconda3\\lib\\site-packages\\sklearn\\linear_model\\logistic.py:432: FutureWarning: Default solver will be changed to 'lbfgs' in 0.22. Specify a solver to silence this warning.\n",
      "  FutureWarning)\n",
      "C:\\Users\\OYO\\Anaconda3\\lib\\site-packages\\sklearn\\linear_model\\logistic.py:432: FutureWarning: Default solver will be changed to 'lbfgs' in 0.22. Specify a solver to silence this warning.\n",
      "  FutureWarning)\n",
      "C:\\Users\\OYO\\Anaconda3\\lib\\site-packages\\sklearn\\linear_model\\logistic.py:432: FutureWarning: Default solver will be changed to 'lbfgs' in 0.22. Specify a solver to silence this warning.\n",
      "  FutureWarning)\n",
      "C:\\Users\\OYO\\Anaconda3\\lib\\site-packages\\sklearn\\linear_model\\logistic.py:432: FutureWarning: Default solver will be changed to 'lbfgs' in 0.22. Specify a solver to silence this warning.\n",
      "  FutureWarning)\n",
      "C:\\Users\\OYO\\Anaconda3\\lib\\site-packages\\sklearn\\linear_model\\logistic.py:432: FutureWarning: Default solver will be changed to 'lbfgs' in 0.22. Specify a solver to silence this warning.\n",
      "  FutureWarning)\n"
     ]
    }
   ],
   "source": [
    "from sklearn.model_selection import cross_val_score\n",
    "lr_scores = cross_val_score(clf_lr, X_train, y_train, cv=4)\n",
    "lr2_scores = cross_val_score(clf_lr2, X_train2, y_train, cv=4)\n",
    "print(lr_scores.mean())\n",
    "print(lr2_scores.mean())"
   ]
  },
  {
   "cell_type": "markdown",
   "metadata": {},
   "source": [
    "## Restarting"
   ]
  },
  {
   "cell_type": "markdown",
   "metadata": {},
   "source": [
    "### Selecting the relevant columns"
   ]
  },
  {
   "cell_type": "code",
   "execution_count": 51,
   "metadata": {},
   "outputs": [
    {
     "data": {
      "text/html": [
       "<div>\n",
       "<style scoped>\n",
       "    .dataframe tbody tr th:only-of-type {\n",
       "        vertical-align: middle;\n",
       "    }\n",
       "\n",
       "    .dataframe tbody tr th {\n",
       "        vertical-align: top;\n",
       "    }\n",
       "\n",
       "    .dataframe thead th {\n",
       "        text-align: right;\n",
       "    }\n",
       "</style>\n",
       "<table border=\"1\" class=\"dataframe\">\n",
       "  <thead>\n",
       "    <tr style=\"text-align: right;\">\n",
       "      <th></th>\n",
       "      <th>posteam</th>\n",
       "      <th>defteam</th>\n",
       "      <th>qtr</th>\n",
       "      <th>yardline_100</th>\n",
       "      <th>quarter_seconds_remaining</th>\n",
       "      <th>half_seconds_remaining</th>\n",
       "      <th>posteam_score</th>\n",
       "      <th>defteam_score</th>\n",
       "      <th>no_score_prob</th>\n",
       "      <th>td_prob</th>\n",
       "      <th>touchdown</th>\n",
       "      <th>fourth_down_converted</th>\n",
       "      <th>down</th>\n",
       "    </tr>\n",
       "  </thead>\n",
       "  <tbody>\n",
       "    <tr>\n",
       "      <td>0</td>\n",
       "      <td>PIT</td>\n",
       "      <td>TEN</td>\n",
       "      <td>1</td>\n",
       "      <td>30.0</td>\n",
       "      <td>900.0</td>\n",
       "      <td>1800.0</td>\n",
       "      <td>NaN</td>\n",
       "      <td>NaN</td>\n",
       "      <td>0.001506</td>\n",
       "      <td>0.313676</td>\n",
       "      <td>0.0</td>\n",
       "      <td>0.0</td>\n",
       "      <td>NaN</td>\n",
       "    </tr>\n",
       "    <tr>\n",
       "      <td>1</td>\n",
       "      <td>PIT</td>\n",
       "      <td>TEN</td>\n",
       "      <td>1</td>\n",
       "      <td>58.0</td>\n",
       "      <td>893.0</td>\n",
       "      <td>1793.0</td>\n",
       "      <td>0.0</td>\n",
       "      <td>0.0</td>\n",
       "      <td>0.000969</td>\n",
       "      <td>0.423011</td>\n",
       "      <td>0.0</td>\n",
       "      <td>0.0</td>\n",
       "      <td>1.0</td>\n",
       "    </tr>\n",
       "    <tr>\n",
       "      <td>2</td>\n",
       "      <td>PIT</td>\n",
       "      <td>TEN</td>\n",
       "      <td>1</td>\n",
       "      <td>53.0</td>\n",
       "      <td>856.0</td>\n",
       "      <td>1756.0</td>\n",
       "      <td>0.0</td>\n",
       "      <td>0.0</td>\n",
       "      <td>0.001057</td>\n",
       "      <td>0.421478</td>\n",
       "      <td>0.0</td>\n",
       "      <td>0.0</td>\n",
       "      <td>2.0</td>\n",
       "    </tr>\n",
       "    <tr>\n",
       "      <td>3</td>\n",
       "      <td>PIT</td>\n",
       "      <td>TEN</td>\n",
       "      <td>1</td>\n",
       "      <td>56.0</td>\n",
       "      <td>815.0</td>\n",
       "      <td>1715.0</td>\n",
       "      <td>0.0</td>\n",
       "      <td>0.0</td>\n",
       "      <td>0.001434</td>\n",
       "      <td>0.318621</td>\n",
       "      <td>0.0</td>\n",
       "      <td>0.0</td>\n",
       "      <td>3.0</td>\n",
       "    </tr>\n",
       "    <tr>\n",
       "      <td>4</td>\n",
       "      <td>PIT</td>\n",
       "      <td>TEN</td>\n",
       "      <td>1</td>\n",
       "      <td>56.0</td>\n",
       "      <td>807.0</td>\n",
       "      <td>1707.0</td>\n",
       "      <td>0.0</td>\n",
       "      <td>0.0</td>\n",
       "      <td>0.001861</td>\n",
       "      <td>0.208111</td>\n",
       "      <td>0.0</td>\n",
       "      <td>0.0</td>\n",
       "      <td>4.0</td>\n",
       "    </tr>\n",
       "  </tbody>\n",
       "</table>\n",
       "</div>"
      ],
      "text/plain": [
       "  posteam defteam  qtr  yardline_100  quarter_seconds_remaining  \\\n",
       "0     PIT     TEN    1          30.0                      900.0   \n",
       "1     PIT     TEN    1          58.0                      893.0   \n",
       "2     PIT     TEN    1          53.0                      856.0   \n",
       "3     PIT     TEN    1          56.0                      815.0   \n",
       "4     PIT     TEN    1          56.0                      807.0   \n",
       "\n",
       "   half_seconds_remaining  posteam_score  defteam_score  no_score_prob  \\\n",
       "0                  1800.0            NaN            NaN       0.001506   \n",
       "1                  1793.0            0.0            0.0       0.000969   \n",
       "2                  1756.0            0.0            0.0       0.001057   \n",
       "3                  1715.0            0.0            0.0       0.001434   \n",
       "4                  1707.0            0.0            0.0       0.001861   \n",
       "\n",
       "    td_prob  touchdown  fourth_down_converted  down  \n",
       "0  0.313676        0.0                    0.0   NaN  \n",
       "1  0.423011        0.0                    0.0   1.0  \n",
       "2  0.421478        0.0                    0.0   2.0  \n",
       "3  0.318621        0.0                    0.0   3.0  \n",
       "4  0.208111        0.0                    0.0   4.0  "
      ]
     },
     "execution_count": 51,
     "metadata": {},
     "output_type": "execute_result"
    }
   ],
   "source": [
    "data = nfl[['posteam','defteam','qtr','yardline_100','quarter_seconds_remaining','half_seconds_remaining',\n",
    "                       'posteam_score','defteam_score','no_score_prob','td_prob',\n",
    "           'touchdown','fourth_down_converted','down']]\n",
    "data.head()"
   ]
  },
  {
   "cell_type": "code",
   "execution_count": 52,
   "metadata": {},
   "outputs": [
    {
     "data": {
      "text/plain": [
       "(39644, 13)"
      ]
     },
     "execution_count": 52,
     "metadata": {},
     "output_type": "execute_result"
    }
   ],
   "source": [
    "data = data[(data['down'] == 4.0)]\n",
    "data.shape"
   ]
  },
  {
   "cell_type": "code",
   "execution_count": 53,
   "metadata": {},
   "outputs": [
    {
     "name": "stdout",
     "output_type": "stream",
     "text": [
      "<class 'pandas.core.frame.DataFrame'>\n",
      "Int64Index: 39644 entries, 4 to 449368\n",
      "Data columns (total 13 columns):\n",
      "posteam                      39525 non-null object\n",
      "defteam                      39525 non-null object\n",
      "qtr                          39644 non-null int64\n",
      "yardline_100                 39525 non-null float64\n",
      "quarter_seconds_remaining    39644 non-null float64\n",
      "half_seconds_remaining       39642 non-null float64\n",
      "posteam_score                39525 non-null float64\n",
      "defteam_score                39525 non-null float64\n",
      "no_score_prob                39644 non-null float64\n",
      "td_prob                      39644 non-null float64\n",
      "touchdown                    39525 non-null float64\n",
      "fourth_down_converted        39525 non-null float64\n",
      "down                         39644 non-null float64\n",
      "dtypes: float64(10), int64(1), object(2)\n",
      "memory usage: 4.2+ MB\n"
     ]
    }
   ],
   "source": [
    "data.info()"
   ]
  },
  {
   "cell_type": "code",
   "execution_count": 54,
   "metadata": {},
   "outputs": [
    {
     "data": {
      "text/plain": [
       "posteam                      119\n",
       "defteam                      119\n",
       "qtr                            0\n",
       "yardline_100                 119\n",
       "quarter_seconds_remaining      0\n",
       "half_seconds_remaining         2\n",
       "posteam_score                119\n",
       "defteam_score                119\n",
       "no_score_prob                  0\n",
       "td_prob                        0\n",
       "touchdown                    119\n",
       "fourth_down_converted        119\n",
       "down                           0\n",
       "dtype: int64"
      ]
     },
     "execution_count": 54,
     "metadata": {},
     "output_type": "execute_result"
    }
   ],
   "source": [
    "data.isnull().sum()"
   ]
  },
  {
   "cell_type": "code",
   "execution_count": 55,
   "metadata": {},
   "outputs": [
    {
     "data": {
      "text/plain": [
       "(39523, 13)"
      ]
     },
     "execution_count": 55,
     "metadata": {},
     "output_type": "execute_result"
    }
   ],
   "source": [
    "data.dropna(how='any',inplace=True)\n",
    "data.shape"
   ]
  },
  {
   "cell_type": "markdown",
   "metadata": {},
   "source": [
    "#### Label Encoding"
   ]
  },
  {
   "cell_type": "code",
   "execution_count": 56,
   "metadata": {},
   "outputs": [],
   "source": [
    "from sklearn.preprocessing import LabelEncoder\n",
    "\n",
    "label = LabelEncoder()\n",
    "pos_team = label.fit_transform(data['posteam'])\n",
    "def_team = label.fit_transform(data['defteam'])\n",
    "\n",
    "data['pos_team'] = pos_team\n",
    "data['def_team'] = def_team"
   ]
  },
  {
   "cell_type": "code",
   "execution_count": 57,
   "metadata": {},
   "outputs": [],
   "source": [
    "#Dropping the categorical columns with string datatype\n",
    "\n",
    "data.drop(['posteam','defteam'],axis=1,inplace=True)"
   ]
  },
  {
   "cell_type": "markdown",
   "metadata": {},
   "source": [
    "#### Scaling using StandardScaler"
   ]
  },
  {
   "cell_type": "code",
   "execution_count": 58,
   "metadata": {},
   "outputs": [
    {
     "data": {
      "text/html": [
       "<div>\n",
       "<style scoped>\n",
       "    .dataframe tbody tr th:only-of-type {\n",
       "        vertical-align: middle;\n",
       "    }\n",
       "\n",
       "    .dataframe tbody tr th {\n",
       "        vertical-align: top;\n",
       "    }\n",
       "\n",
       "    .dataframe thead th {\n",
       "        text-align: right;\n",
       "    }\n",
       "</style>\n",
       "<table border=\"1\" class=\"dataframe\">\n",
       "  <thead>\n",
       "    <tr style=\"text-align: right;\">\n",
       "      <th></th>\n",
       "      <th>qtr</th>\n",
       "      <th>yardline_100</th>\n",
       "      <th>quarter_seconds_remaining</th>\n",
       "      <th>half_seconds_remaining</th>\n",
       "      <th>posteam_score</th>\n",
       "      <th>defteam_score</th>\n",
       "      <th>no_score_prob</th>\n",
       "      <th>td_prob</th>\n",
       "      <th>touchdown</th>\n",
       "      <th>fourth_down_converted</th>\n",
       "      <th>down</th>\n",
       "      <th>pos_team</th>\n",
       "      <th>def_team</th>\n",
       "    </tr>\n",
       "  </thead>\n",
       "  <tbody>\n",
       "    <tr>\n",
       "      <td>4</td>\n",
       "      <td>1</td>\n",
       "      <td>0.210318</td>\n",
       "      <td>1.482393</td>\n",
       "      <td>1.709710</td>\n",
       "      <td>-1.052662</td>\n",
       "      <td>-1.138157</td>\n",
       "      <td>0.001861</td>\n",
       "      <td>0.208111</td>\n",
       "      <td>0.0</td>\n",
       "      <td>0.0</td>\n",
       "      <td>4.0</td>\n",
       "      <td>27</td>\n",
       "      <td>33</td>\n",
       "    </tr>\n",
       "    <tr>\n",
       "      <td>8</td>\n",
       "      <td>1</td>\n",
       "      <td>1.804706</td>\n",
       "      <td>1.055167</td>\n",
       "      <td>1.495628</td>\n",
       "      <td>-1.052662</td>\n",
       "      <td>-1.138157</td>\n",
       "      <td>0.003023</td>\n",
       "      <td>0.135991</td>\n",
       "      <td>0.0</td>\n",
       "      <td>0.0</td>\n",
       "      <td>4.0</td>\n",
       "      <td>33</td>\n",
       "      <td>27</td>\n",
       "    </tr>\n",
       "    <tr>\n",
       "      <td>14</td>\n",
       "      <td>1</td>\n",
       "      <td>-0.387578</td>\n",
       "      <td>0.340603</td>\n",
       "      <td>1.137561</td>\n",
       "      <td>-1.052662</td>\n",
       "      <td>-1.138157</td>\n",
       "      <td>0.004547</td>\n",
       "      <td>0.150286</td>\n",
       "      <td>0.0</td>\n",
       "      <td>0.0</td>\n",
       "      <td>4.0</td>\n",
       "      <td>27</td>\n",
       "      <td>33</td>\n",
       "    </tr>\n",
       "    <tr>\n",
       "      <td>20</td>\n",
       "      <td>1</td>\n",
       "      <td>-1.264491</td>\n",
       "      <td>-0.026131</td>\n",
       "      <td>0.953792</td>\n",
       "      <td>-1.052662</td>\n",
       "      <td>-1.138157</td>\n",
       "      <td>0.001197</td>\n",
       "      <td>0.028760</td>\n",
       "      <td>0.0</td>\n",
       "      <td>0.0</td>\n",
       "      <td>4.0</td>\n",
       "      <td>33</td>\n",
       "      <td>27</td>\n",
       "    </tr>\n",
       "    <tr>\n",
       "      <td>24</td>\n",
       "      <td>1</td>\n",
       "      <td>1.127091</td>\n",
       "      <td>-0.426892</td>\n",
       "      <td>0.752971</td>\n",
       "      <td>-1.052662</td>\n",
       "      <td>-1.138157</td>\n",
       "      <td>0.015674</td>\n",
       "      <td>0.157581</td>\n",
       "      <td>0.0</td>\n",
       "      <td>0.0</td>\n",
       "      <td>4.0</td>\n",
       "      <td>27</td>\n",
       "      <td>33</td>\n",
       "    </tr>\n",
       "  </tbody>\n",
       "</table>\n",
       "</div>"
      ],
      "text/plain": [
       "    qtr  yardline_100  quarter_seconds_remaining  half_seconds_remaining  \\\n",
       "4     1      0.210318                   1.482393                1.709710   \n",
       "8     1      1.804706                   1.055167                1.495628   \n",
       "14    1     -0.387578                   0.340603                1.137561   \n",
       "20    1     -1.264491                  -0.026131                0.953792   \n",
       "24    1      1.127091                  -0.426892                0.752971   \n",
       "\n",
       "    posteam_score  defteam_score  no_score_prob   td_prob  touchdown  \\\n",
       "4       -1.052662      -1.138157       0.001861  0.208111        0.0   \n",
       "8       -1.052662      -1.138157       0.003023  0.135991        0.0   \n",
       "14      -1.052662      -1.138157       0.004547  0.150286        0.0   \n",
       "20      -1.052662      -1.138157       0.001197  0.028760        0.0   \n",
       "24      -1.052662      -1.138157       0.015674  0.157581        0.0   \n",
       "\n",
       "    fourth_down_converted  down  pos_team  def_team  \n",
       "4                     0.0   4.0        27        33  \n",
       "8                     0.0   4.0        33        27  \n",
       "14                    0.0   4.0        27        33  \n",
       "20                    0.0   4.0        33        27  \n",
       "24                    0.0   4.0        27        33  "
      ]
     },
     "execution_count": 58,
     "metadata": {},
     "output_type": "execute_result"
    }
   ],
   "source": [
    "from sklearn.preprocessing import StandardScaler\n",
    "\n",
    "scaler = StandardScaler()\n",
    "data[['yardline_100','quarter_seconds_remaining','half_seconds_remaining',\n",
    "                       'posteam_score','defteam_score']] = scaler.fit_transform(data[['yardline_100','quarter_seconds_remaining','half_seconds_remaining',\n",
    "                       'posteam_score','defteam_score']])\n",
    "data.head()"
   ]
  },
  {
   "cell_type": "code",
   "execution_count": 59,
   "metadata": {},
   "outputs": [
    {
     "data": {
      "text/html": [
       "<div>\n",
       "<style scoped>\n",
       "    .dataframe tbody tr th:only-of-type {\n",
       "        vertical-align: middle;\n",
       "    }\n",
       "\n",
       "    .dataframe tbody tr th {\n",
       "        vertical-align: top;\n",
       "    }\n",
       "\n",
       "    .dataframe thead th {\n",
       "        text-align: right;\n",
       "    }\n",
       "</style>\n",
       "<table border=\"1\" class=\"dataframe\">\n",
       "  <thead>\n",
       "    <tr style=\"text-align: right;\">\n",
       "      <th></th>\n",
       "      <th>qtr</th>\n",
       "      <th>yardline_100</th>\n",
       "      <th>quarter_seconds_remaining</th>\n",
       "      <th>half_seconds_remaining</th>\n",
       "      <th>posteam_score</th>\n",
       "      <th>defteam_score</th>\n",
       "      <th>no_score_prob</th>\n",
       "      <th>td_prob</th>\n",
       "      <th>touchdown</th>\n",
       "      <th>fourth_down_converted</th>\n",
       "      <th>pos_team</th>\n",
       "      <th>def_team</th>\n",
       "    </tr>\n",
       "  </thead>\n",
       "  <tbody>\n",
       "    <tr>\n",
       "      <td>4</td>\n",
       "      <td>1</td>\n",
       "      <td>0.210318</td>\n",
       "      <td>1.482393</td>\n",
       "      <td>1.709710</td>\n",
       "      <td>-1.052662</td>\n",
       "      <td>-1.138157</td>\n",
       "      <td>0.001861</td>\n",
       "      <td>0.208111</td>\n",
       "      <td>0</td>\n",
       "      <td>0</td>\n",
       "      <td>27</td>\n",
       "      <td>33</td>\n",
       "    </tr>\n",
       "    <tr>\n",
       "      <td>8</td>\n",
       "      <td>1</td>\n",
       "      <td>1.804706</td>\n",
       "      <td>1.055167</td>\n",
       "      <td>1.495628</td>\n",
       "      <td>-1.052662</td>\n",
       "      <td>-1.138157</td>\n",
       "      <td>0.003023</td>\n",
       "      <td>0.135991</td>\n",
       "      <td>0</td>\n",
       "      <td>0</td>\n",
       "      <td>33</td>\n",
       "      <td>27</td>\n",
       "    </tr>\n",
       "    <tr>\n",
       "      <td>14</td>\n",
       "      <td>1</td>\n",
       "      <td>-0.387578</td>\n",
       "      <td>0.340603</td>\n",
       "      <td>1.137561</td>\n",
       "      <td>-1.052662</td>\n",
       "      <td>-1.138157</td>\n",
       "      <td>0.004547</td>\n",
       "      <td>0.150286</td>\n",
       "      <td>0</td>\n",
       "      <td>0</td>\n",
       "      <td>27</td>\n",
       "      <td>33</td>\n",
       "    </tr>\n",
       "    <tr>\n",
       "      <td>20</td>\n",
       "      <td>1</td>\n",
       "      <td>-1.264491</td>\n",
       "      <td>-0.026131</td>\n",
       "      <td>0.953792</td>\n",
       "      <td>-1.052662</td>\n",
       "      <td>-1.138157</td>\n",
       "      <td>0.001197</td>\n",
       "      <td>0.028760</td>\n",
       "      <td>0</td>\n",
       "      <td>0</td>\n",
       "      <td>33</td>\n",
       "      <td>27</td>\n",
       "    </tr>\n",
       "    <tr>\n",
       "      <td>24</td>\n",
       "      <td>1</td>\n",
       "      <td>1.127091</td>\n",
       "      <td>-0.426892</td>\n",
       "      <td>0.752971</td>\n",
       "      <td>-1.052662</td>\n",
       "      <td>-1.138157</td>\n",
       "      <td>0.015674</td>\n",
       "      <td>0.157581</td>\n",
       "      <td>0</td>\n",
       "      <td>0</td>\n",
       "      <td>27</td>\n",
       "      <td>33</td>\n",
       "    </tr>\n",
       "  </tbody>\n",
       "</table>\n",
       "</div>"
      ],
      "text/plain": [
       "    qtr  yardline_100  quarter_seconds_remaining  half_seconds_remaining  \\\n",
       "4     1      0.210318                   1.482393                1.709710   \n",
       "8     1      1.804706                   1.055167                1.495628   \n",
       "14    1     -0.387578                   0.340603                1.137561   \n",
       "20    1     -1.264491                  -0.026131                0.953792   \n",
       "24    1      1.127091                  -0.426892                0.752971   \n",
       "\n",
       "    posteam_score  defteam_score  no_score_prob   td_prob  touchdown  \\\n",
       "4       -1.052662      -1.138157       0.001861  0.208111          0   \n",
       "8       -1.052662      -1.138157       0.003023  0.135991          0   \n",
       "14      -1.052662      -1.138157       0.004547  0.150286          0   \n",
       "20      -1.052662      -1.138157       0.001197  0.028760          0   \n",
       "24      -1.052662      -1.138157       0.015674  0.157581          0   \n",
       "\n",
       "    fourth_down_converted  pos_team  def_team  \n",
       "4                       0        27        33  \n",
       "8                       0        33        27  \n",
       "14                      0        27        33  \n",
       "20                      0        33        27  \n",
       "24                      0        27        33  "
      ]
     },
     "execution_count": 59,
     "metadata": {},
     "output_type": "execute_result"
    }
   ],
   "source": [
    "data['touchdown'] = data['touchdown'].astype('int')\n",
    "#data['complete_pass'] = data['complete_pass'].astype('int')\n",
    "data['fourth_down_converted'] = data['fourth_down_converted'].astype('int')\n",
    "data.drop('down',axis=1,inplace=True)\n",
    "data.head()"
   ]
  },
  {
   "cell_type": "code",
   "execution_count": 60,
   "metadata": {},
   "outputs": [],
   "source": [
    "X = data.drop('fourth_down_converted',axis=1)\n",
    "y = data['fourth_down_converted']"
   ]
  },
  {
   "cell_type": "code",
   "execution_count": 61,
   "metadata": {},
   "outputs": [
    {
     "name": "stdout",
     "output_type": "stream",
     "text": [
      "(26480, 11)\n",
      "(13043, 11)\n"
     ]
    }
   ],
   "source": [
    "from sklearn.model_selection import train_test_split\n",
    "X_train, X_test, y_train, y_test = train_test_split(X,y,test_size=0.33,random_state=42)\n",
    "print(X_train.shape)\n",
    "print(X_test.shape)"
   ]
  },
  {
   "cell_type": "markdown",
   "metadata": {},
   "source": [
    "### Logistic Regression Model"
   ]
  },
  {
   "cell_type": "code",
   "execution_count": 62,
   "metadata": {},
   "outputs": [
    {
     "name": "stderr",
     "output_type": "stream",
     "text": [
      "C:\\Users\\OYO\\Anaconda3\\lib\\site-packages\\sklearn\\linear_model\\logistic.py:432: FutureWarning: Default solver will be changed to 'lbfgs' in 0.22. Specify a solver to silence this warning.\n",
      "  FutureWarning)\n"
     ]
    },
    {
     "data": {
      "text/plain": [
       "0.9461013570497585"
      ]
     },
     "execution_count": 62,
     "metadata": {},
     "output_type": "execute_result"
    }
   ],
   "source": [
    "from sklearn.linear_model import LogisticRegression\n",
    "lr_model = LogisticRegression(max_iter=100, random_state=42)\n",
    "lr_model.fit(X_train, y_train)\n",
    "\n",
    "y_pred_lr = lr_model.predict(X_test)\n",
    "accuracy_score(y_test,y_pred_lr)"
   ]
  },
  {
   "cell_type": "code",
   "execution_count": 63,
   "metadata": {},
   "outputs": [
    {
     "name": "stderr",
     "output_type": "stream",
     "text": [
      "C:\\Users\\OYO\\Anaconda3\\lib\\site-packages\\sklearn\\linear_model\\logistic.py:432: FutureWarning: Default solver will be changed to 'lbfgs' in 0.22. Specify a solver to silence this warning.\n",
      "  FutureWarning)\n",
      "C:\\Users\\OYO\\Anaconda3\\lib\\site-packages\\sklearn\\linear_model\\logistic.py:432: FutureWarning: Default solver will be changed to 'lbfgs' in 0.22. Specify a solver to silence this warning.\n",
      "  FutureWarning)\n",
      "C:\\Users\\OYO\\Anaconda3\\lib\\site-packages\\sklearn\\linear_model\\logistic.py:432: FutureWarning: Default solver will be changed to 'lbfgs' in 0.22. Specify a solver to silence this warning.\n",
      "  FutureWarning)\n",
      "C:\\Users\\OYO\\Anaconda3\\lib\\site-packages\\sklearn\\linear_model\\logistic.py:432: FutureWarning: Default solver will be changed to 'lbfgs' in 0.22. Specify a solver to silence this warning.\n",
      "  FutureWarning)\n"
     ]
    },
    {
     "name": "stdout",
     "output_type": "stream",
     "text": [
      "0.9439199440019702\n"
     ]
    }
   ],
   "source": [
    "#Logistic regression using 4 - fold cross-validation\n",
    "\n",
    "from sklearn.preprocessing import StandardScaler\n",
    "scalar = StandardScaler()\n",
    "X_train2 = scalar.fit_transform(X_train)\n",
    "X_test2 = scalar.fit_transform(X_test)\n",
    "\n",
    "from sklearn.model_selection import cross_val_score\n",
    "lreg_scores = cross_val_score(lr_model, X_train2, y_train, cv=4)\n",
    "print(lreg_scores.mean())"
   ]
  },
  {
   "cell_type": "code",
   "execution_count": 64,
   "metadata": {
    "scrolled": true
   },
   "outputs": [
    {
     "data": {
      "text/html": [
       "<div>\n",
       "<style scoped>\n",
       "    .dataframe tbody tr th:only-of-type {\n",
       "        vertical-align: middle;\n",
       "    }\n",
       "\n",
       "    .dataframe tbody tr th {\n",
       "        vertical-align: top;\n",
       "    }\n",
       "\n",
       "    .dataframe thead th {\n",
       "        text-align: right;\n",
       "    }\n",
       "</style>\n",
       "<table border=\"1\" class=\"dataframe\">\n",
       "  <thead>\n",
       "    <tr style=\"text-align: right;\">\n",
       "      <th></th>\n",
       "      <th>qtr</th>\n",
       "      <th>yardline_100</th>\n",
       "      <th>quarter_seconds_remaining</th>\n",
       "      <th>half_seconds_remaining</th>\n",
       "      <th>posteam_score</th>\n",
       "      <th>defteam_score</th>\n",
       "      <th>no_score_prob</th>\n",
       "      <th>td_prob</th>\n",
       "      <th>touchdown</th>\n",
       "      <th>fourth_down_converted</th>\n",
       "      <th>pos_team</th>\n",
       "      <th>def_team</th>\n",
       "    </tr>\n",
       "  </thead>\n",
       "  <tbody>\n",
       "    <tr>\n",
       "      <td>qtr</td>\n",
       "      <td>1.000000</td>\n",
       "      <td>-0.059912</td>\n",
       "      <td>-0.011261</td>\n",
       "      <td>-0.394056</td>\n",
       "      <td>0.670719</td>\n",
       "      <td>0.642440</td>\n",
       "      <td>0.256307</td>\n",
       "      <td>-0.126760</td>\n",
       "      <td>0.030156</td>\n",
       "      <td>0.100320</td>\n",
       "      <td>-0.004147</td>\n",
       "      <td>-0.003038</td>\n",
       "    </tr>\n",
       "    <tr>\n",
       "      <td>yardline_100</td>\n",
       "      <td>-0.059912</td>\n",
       "      <td>1.000000</td>\n",
       "      <td>0.107253</td>\n",
       "      <td>0.123934</td>\n",
       "      <td>-0.039430</td>\n",
       "      <td>-0.007295</td>\n",
       "      <td>0.242545</td>\n",
       "      <td>0.489214</td>\n",
       "      <td>-0.101531</td>\n",
       "      <td>-0.150373</td>\n",
       "      <td>-0.001149</td>\n",
       "      <td>-0.008960</td>\n",
       "    </tr>\n",
       "    <tr>\n",
       "      <td>quarter_seconds_remaining</td>\n",
       "      <td>-0.011261</td>\n",
       "      <td>0.107253</td>\n",
       "      <td>1.000000</td>\n",
       "      <td>0.536173</td>\n",
       "      <td>-0.168255</td>\n",
       "      <td>-0.169300</td>\n",
       "      <td>-0.485260</td>\n",
       "      <td>0.305759</td>\n",
       "      <td>-0.022986</td>\n",
       "      <td>-0.059336</td>\n",
       "      <td>-0.002405</td>\n",
       "      <td>-0.000936</td>\n",
       "    </tr>\n",
       "    <tr>\n",
       "      <td>half_seconds_remaining</td>\n",
       "      <td>-0.394056</td>\n",
       "      <td>0.123934</td>\n",
       "      <td>0.536173</td>\n",
       "      <td>1.000000</td>\n",
       "      <td>-0.337611</td>\n",
       "      <td>-0.325793</td>\n",
       "      <td>-0.717248</td>\n",
       "      <td>0.400875</td>\n",
       "      <td>-0.034067</td>\n",
       "      <td>-0.087923</td>\n",
       "      <td>0.003338</td>\n",
       "      <td>0.002577</td>\n",
       "    </tr>\n",
       "    <tr>\n",
       "      <td>posteam_score</td>\n",
       "      <td>0.670719</td>\n",
       "      <td>-0.039430</td>\n",
       "      <td>-0.168255</td>\n",
       "      <td>-0.337611</td>\n",
       "      <td>1.000000</td>\n",
       "      <td>0.380911</td>\n",
       "      <td>0.256318</td>\n",
       "      <td>-0.129985</td>\n",
       "      <td>0.001370</td>\n",
       "      <td>0.018917</td>\n",
       "      <td>-0.011836</td>\n",
       "      <td>0.009033</td>\n",
       "    </tr>\n",
       "    <tr>\n",
       "      <td>defteam_score</td>\n",
       "      <td>0.642440</td>\n",
       "      <td>-0.007295</td>\n",
       "      <td>-0.169300</td>\n",
       "      <td>-0.325793</td>\n",
       "      <td>0.380911</td>\n",
       "      <td>1.000000</td>\n",
       "      <td>0.254023</td>\n",
       "      <td>-0.081501</td>\n",
       "      <td>0.054852</td>\n",
       "      <td>0.152501</td>\n",
       "      <td>0.016760</td>\n",
       "      <td>-0.005439</td>\n",
       "    </tr>\n",
       "    <tr>\n",
       "      <td>no_score_prob</td>\n",
       "      <td>0.256307</td>\n",
       "      <td>0.242545</td>\n",
       "      <td>-0.485260</td>\n",
       "      <td>-0.717248</td>\n",
       "      <td>0.256318</td>\n",
       "      <td>0.254023</td>\n",
       "      <td>1.000000</td>\n",
       "      <td>-0.195066</td>\n",
       "      <td>0.001069</td>\n",
       "      <td>0.078550</td>\n",
       "      <td>-0.005239</td>\n",
       "      <td>-0.005006</td>\n",
       "    </tr>\n",
       "    <tr>\n",
       "      <td>td_prob</td>\n",
       "      <td>-0.126760</td>\n",
       "      <td>0.489214</td>\n",
       "      <td>0.305759</td>\n",
       "      <td>0.400875</td>\n",
       "      <td>-0.129985</td>\n",
       "      <td>-0.081501</td>\n",
       "      <td>-0.195066</td>\n",
       "      <td>1.000000</td>\n",
       "      <td>0.055743</td>\n",
       "      <td>0.126230</td>\n",
       "      <td>-0.005451</td>\n",
       "      <td>-0.003683</td>\n",
       "    </tr>\n",
       "    <tr>\n",
       "      <td>touchdown</td>\n",
       "      <td>0.030156</td>\n",
       "      <td>-0.101531</td>\n",
       "      <td>-0.022986</td>\n",
       "      <td>-0.034067</td>\n",
       "      <td>0.001370</td>\n",
       "      <td>0.054852</td>\n",
       "      <td>0.001069</td>\n",
       "      <td>0.055743</td>\n",
       "      <td>1.000000</td>\n",
       "      <td>0.322711</td>\n",
       "      <td>0.003827</td>\n",
       "      <td>-0.002831</td>\n",
       "    </tr>\n",
       "    <tr>\n",
       "      <td>fourth_down_converted</td>\n",
       "      <td>0.100320</td>\n",
       "      <td>-0.150373</td>\n",
       "      <td>-0.059336</td>\n",
       "      <td>-0.087923</td>\n",
       "      <td>0.018917</td>\n",
       "      <td>0.152501</td>\n",
       "      <td>0.078550</td>\n",
       "      <td>0.126230</td>\n",
       "      <td>0.322711</td>\n",
       "      <td>1.000000</td>\n",
       "      <td>-0.002534</td>\n",
       "      <td>-0.006305</td>\n",
       "    </tr>\n",
       "    <tr>\n",
       "      <td>pos_team</td>\n",
       "      <td>-0.004147</td>\n",
       "      <td>-0.001149</td>\n",
       "      <td>-0.002405</td>\n",
       "      <td>0.003338</td>\n",
       "      <td>-0.011836</td>\n",
       "      <td>0.016760</td>\n",
       "      <td>-0.005239</td>\n",
       "      <td>-0.005451</td>\n",
       "      <td>0.003827</td>\n",
       "      <td>-0.002534</td>\n",
       "      <td>1.000000</td>\n",
       "      <td>-0.045774</td>\n",
       "    </tr>\n",
       "    <tr>\n",
       "      <td>def_team</td>\n",
       "      <td>-0.003038</td>\n",
       "      <td>-0.008960</td>\n",
       "      <td>-0.000936</td>\n",
       "      <td>0.002577</td>\n",
       "      <td>0.009033</td>\n",
       "      <td>-0.005439</td>\n",
       "      <td>-0.005006</td>\n",
       "      <td>-0.003683</td>\n",
       "      <td>-0.002831</td>\n",
       "      <td>-0.006305</td>\n",
       "      <td>-0.045774</td>\n",
       "      <td>1.000000</td>\n",
       "    </tr>\n",
       "  </tbody>\n",
       "</table>\n",
       "</div>"
      ],
      "text/plain": [
       "                                qtr  yardline_100  quarter_seconds_remaining  \\\n",
       "qtr                        1.000000     -0.059912                  -0.011261   \n",
       "yardline_100              -0.059912      1.000000                   0.107253   \n",
       "quarter_seconds_remaining -0.011261      0.107253                   1.000000   \n",
       "half_seconds_remaining    -0.394056      0.123934                   0.536173   \n",
       "posteam_score              0.670719     -0.039430                  -0.168255   \n",
       "defteam_score              0.642440     -0.007295                  -0.169300   \n",
       "no_score_prob              0.256307      0.242545                  -0.485260   \n",
       "td_prob                   -0.126760      0.489214                   0.305759   \n",
       "touchdown                  0.030156     -0.101531                  -0.022986   \n",
       "fourth_down_converted      0.100320     -0.150373                  -0.059336   \n",
       "pos_team                  -0.004147     -0.001149                  -0.002405   \n",
       "def_team                  -0.003038     -0.008960                  -0.000936   \n",
       "\n",
       "                           half_seconds_remaining  posteam_score  \\\n",
       "qtr                                     -0.394056       0.670719   \n",
       "yardline_100                             0.123934      -0.039430   \n",
       "quarter_seconds_remaining                0.536173      -0.168255   \n",
       "half_seconds_remaining                   1.000000      -0.337611   \n",
       "posteam_score                           -0.337611       1.000000   \n",
       "defteam_score                           -0.325793       0.380911   \n",
       "no_score_prob                           -0.717248       0.256318   \n",
       "td_prob                                  0.400875      -0.129985   \n",
       "touchdown                               -0.034067       0.001370   \n",
       "fourth_down_converted                   -0.087923       0.018917   \n",
       "pos_team                                 0.003338      -0.011836   \n",
       "def_team                                 0.002577       0.009033   \n",
       "\n",
       "                           defteam_score  no_score_prob   td_prob  touchdown  \\\n",
       "qtr                             0.642440       0.256307 -0.126760   0.030156   \n",
       "yardline_100                   -0.007295       0.242545  0.489214  -0.101531   \n",
       "quarter_seconds_remaining      -0.169300      -0.485260  0.305759  -0.022986   \n",
       "half_seconds_remaining         -0.325793      -0.717248  0.400875  -0.034067   \n",
       "posteam_score                   0.380911       0.256318 -0.129985   0.001370   \n",
       "defteam_score                   1.000000       0.254023 -0.081501   0.054852   \n",
       "no_score_prob                   0.254023       1.000000 -0.195066   0.001069   \n",
       "td_prob                        -0.081501      -0.195066  1.000000   0.055743   \n",
       "touchdown                       0.054852       0.001069  0.055743   1.000000   \n",
       "fourth_down_converted           0.152501       0.078550  0.126230   0.322711   \n",
       "pos_team                        0.016760      -0.005239 -0.005451   0.003827   \n",
       "def_team                       -0.005439      -0.005006 -0.003683  -0.002831   \n",
       "\n",
       "                           fourth_down_converted  pos_team  def_team  \n",
       "qtr                                     0.100320 -0.004147 -0.003038  \n",
       "yardline_100                           -0.150373 -0.001149 -0.008960  \n",
       "quarter_seconds_remaining              -0.059336 -0.002405 -0.000936  \n",
       "half_seconds_remaining                 -0.087923  0.003338  0.002577  \n",
       "posteam_score                           0.018917 -0.011836  0.009033  \n",
       "defteam_score                           0.152501  0.016760 -0.005439  \n",
       "no_score_prob                           0.078550 -0.005239 -0.005006  \n",
       "td_prob                                 0.126230 -0.005451 -0.003683  \n",
       "touchdown                               0.322711  0.003827 -0.002831  \n",
       "fourth_down_converted                   1.000000 -0.002534 -0.006305  \n",
       "pos_team                               -0.002534  1.000000 -0.045774  \n",
       "def_team                               -0.006305 -0.045774  1.000000  "
      ]
     },
     "execution_count": 64,
     "metadata": {},
     "output_type": "execute_result"
    }
   ],
   "source": [
    "data.corr()"
   ]
  },
  {
   "cell_type": "code",
   "execution_count": 65,
   "metadata": {},
   "outputs": [],
   "source": [
    "prob = lr_model.predict_proba(X_test)"
   ]
  },
  {
   "cell_type": "code",
   "execution_count": 66,
   "metadata": {},
   "outputs": [
    {
     "name": "stdout",
     "output_type": "stream",
     "text": [
      "0.9042242661475794\n"
     ]
    }
   ],
   "source": [
    "from sklearn.metrics import roc_curve,auc\n",
    "from sklearn import metrics\n",
    "prob_pos = prob[:,1]\n",
    "\n",
    "fpr, tpr, threshold = roc_curve(y_test, prob_pos)\n",
    "\n",
    "roc_auc = metrics.auc(fpr,tpr)\n",
    "\n",
    "print(roc_auc)"
   ]
  },
  {
   "cell_type": "code",
   "execution_count": 67,
   "metadata": {},
   "outputs": [
    {
     "data": {
      "image/png": "[encoded data removed]",
      "text/plain": [
       "<Figure size 432x288 with 1 Axes>"
      ]
     },
     "metadata": {
      "needs_background": "light"
     },
     "output_type": "display_data"
    }
   ],
   "source": [
    "%matplotlib inline\n",
    "import matplotlib.pyplot as plt\n",
    "plt.title(\"Receiver Operating Charateristic\")\n",
    "plt.plot(fpr, tpr,\"red\", label=\"AUC = %0.2f\"%roc_auc)\n",
    "plt.legend(loc = \"lower right\")\n",
    "\n",
    "plt.plot([0,1],[0,1], color = \"g\", linestyle=\"--\")\n",
    "plt.ylabel(\"True positive rate\")\n",
    "plt.xlabel(\"False positive rate\")\n",
    "plt.show()"
   ]
  },
  {
   "cell_type": "markdown",
   "metadata": {},
   "source": [
    "### KNN Classifier using Cross validation"
   ]
  },
  {
   "cell_type": "code",
   "execution_count": 68,
   "metadata": {},
   "outputs": [
    {
     "data": {
      "text/plain": [
       "(8, 0.9395771213860558)"
      ]
     },
     "execution_count": 68,
     "metadata": {},
     "output_type": "execute_result"
    }
   ],
   "source": [
    "from sklearn.neighbors import KNeighborsClassifier\n",
    "\n",
    "all_scores = []\n",
    "for n_neighbors in range(3,9,1):\n",
    "    knn_clf = KNeighborsClassifier(n_neighbors= n_neighbors)\n",
    "    all_scores.append((n_neighbors, cross_val_score(knn_clf, X_train, y_train, cv = 10).mean()))\n",
    "sorted(all_scores, key=lambda x:x[1], reverse = True)[0]"
   ]
  },
  {
   "cell_type": "markdown",
   "metadata": {},
   "source": [
    "### Random Forest Classifier"
   ]
  },
  {
   "cell_type": "code",
   "execution_count": 69,
   "metadata": {},
   "outputs": [
    {
     "data": {
      "text/plain": [
       "0.9545349996166526"
      ]
     },
     "execution_count": 69,
     "metadata": {},
     "output_type": "execute_result"
    }
   ],
   "source": [
    "from sklearn.ensemble import RandomForestClassifier\n",
    "rf_clf = RandomForestClassifier(n_estimators=100)\n",
    "rf_clf.fit(X_train, y_train)\n",
    "\n",
    "y_pred_rf = rf_clf.predict(X_test)\n",
    "accuracy_score(y_test, y_pred_rf)"
   ]
  },
  {
   "cell_type": "code",
   "execution_count": 71,
   "metadata": {},
   "outputs": [
    {
     "name": "stdout",
     "output_type": "stream",
     "text": [
      "0.9385140261286437\n"
     ]
    }
   ],
   "source": [
    "from sklearn.metrics import roc_curve,auc\n",
    "from sklearn import metrics\n",
    "prob = rf_clf.predict_proba(X_test)\n",
    "prob_pos = prob[:,1]\n",
    "\n",
    "fpr, tpr, threshold = roc_curve(y_test, prob_pos)\n",
    "\n",
    "roc_auc = metrics.auc(fpr,tpr)\n",
    "\n",
    "print(roc_auc)"
   ]
  },
  {
   "cell_type": "code",
   "execution_count": 72,
   "metadata": {},
   "outputs": [
    {
     "data": {
      "image/png": "[encoded data removed]",
      "text/plain": [
       "<Figure size 432x288 with 1 Axes>"
      ]
     },
     "metadata": {
      "needs_background": "light"
     },
     "output_type": "display_data"
    }
   ],
   "source": [
    "%matplotlib inline\n",
    "import matplotlib.pyplot as plt\n",
    "plt.title(\"Receiver Operating Charateristic\")\n",
    "plt.plot(fpr, tpr,\"red\", label=\"AUC = %0.2f\"%roc_auc)\n",
    "plt.legend(loc = \"lower right\")\n",
    "\n",
    "plt.plot([0,1],[0,1], color = \"g\", linestyle=\"--\")\n",
    "plt.ylabel(\"True positive rate\")\n",
    "plt.xlabel(\"False positive rate\")\n",
    "plt.show()"
   ]
  },
  {
   "cell_type": "code",
   "execution_count": 73,
   "metadata": {},
   "outputs": [
    {
     "data": {
      "text/plain": [
       "GridSearchCV(cv=4, error_score='raise-deprecating',\n",
       "             estimator=RandomForestClassifier(bootstrap=True, class_weight=None,\n",
       "                                              criterion='gini', max_depth=None,\n",
       "                                              max_features='auto',\n",
       "                                              max_leaf_nodes=None,\n",
       "                                              min_impurity_decrease=0.0,\n",
       "                                              min_impurity_split=None,\n",
       "                                              min_samples_leaf=1,\n",
       "                                              min_samples_split=2,\n",
       "                                              min_weight_fraction_leaf=0.0,\n",
       "                                              n_estimators=100, n_jobs=None,\n",
       "                                              oob_score=False,\n",
       "                                              random_state=None, verbose=0,\n",
       "                                              warm_start=False),\n",
       "             iid='warn', n_jobs=None,\n",
       "             param_grid=[{'max_features': [2, 4, 6, 8, 10],\n",
       "                          'n_estimators': [3, 10, 30, 100]},\n",
       "                         {'bootstrap': [False], 'max_features': [2, 3, 4],\n",
       "                          'n_estimators': [3, 10, 30]}],\n",
       "             pre_dispatch='2*n_jobs', refit=True, return_train_score=False,\n",
       "             scoring='neg_mean_squared_error', verbose=0)"
      ]
     },
     "execution_count": 73,
     "metadata": {},
     "output_type": "execute_result"
    }
   ],
   "source": [
    "#using GridSearchCV \n",
    "\n",
    "from sklearn.model_selection import GridSearchCV\n",
    "\n",
    "param_grid = [\n",
    "    # try 25 (5x5) combinations of hyperparameters\n",
    "    {'n_estimators': [3, 10, 30,100], 'max_features': [2, 4, 6, 8,10]},\n",
    "    # then try 9 (3×3) combinations with bootstrap set as False\n",
    "    {'bootstrap': [False], 'n_estimators': [3, 10,30], 'max_features': [2, 3, 4]},\n",
    "]\n",
    "\n",
    "grid_search = GridSearchCV(rf_clf, param_grid, cv=4,\n",
    "                           scoring='neg_mean_squared_error')\n",
    "grid_search.fit(X_train, y_train)"
   ]
  },
  {
   "cell_type": "code",
   "execution_count": 74,
   "metadata": {},
   "outputs": [
    {
     "data": {
      "text/plain": [
       "{'max_features': 6, 'n_estimators': 30}"
      ]
     },
     "execution_count": 74,
     "metadata": {},
     "output_type": "execute_result"
    }
   ],
   "source": [
    "grid_search.best_params_"
   ]
  },
  {
   "cell_type": "code",
   "execution_count": 75,
   "metadata": {},
   "outputs": [
    {
     "data": {
      "text/plain": [
       "RandomForestClassifier(bootstrap=True, class_weight=None, criterion='gini',\n",
       "                       max_depth=None, max_features=6, max_leaf_nodes=None,\n",
       "                       min_impurity_decrease=0.0, min_impurity_split=None,\n",
       "                       min_samples_leaf=1, min_samples_split=2,\n",
       "                       min_weight_fraction_leaf=0.0, n_estimators=30,\n",
       "                       n_jobs=None, oob_score=False, random_state=None,\n",
       "                       verbose=0, warm_start=False)"
      ]
     },
     "execution_count": 75,
     "metadata": {},
     "output_type": "execute_result"
    }
   ],
   "source": [
    "# Get the best estimator\n",
    "\n",
    "grid_search.best_estimator_"
   ]
  },
  {
   "cell_type": "code",
   "execution_count": 76,
   "metadata": {},
   "outputs": [
    {
     "data": {
      "text/plain": [
       "0.9521582458023461"
      ]
     },
     "execution_count": 76,
     "metadata": {},
     "output_type": "execute_result"
    }
   ],
   "source": [
    "rf2_clf = RandomForestClassifier(bootstrap=True, class_weight=None, criterion='gini',\n",
    "                       max_depth=None, max_features=6, max_leaf_nodes=None,\n",
    "                       min_impurity_decrease=0.0, min_impurity_split=None,\n",
    "                       min_samples_leaf=1, min_samples_split=2,\n",
    "                       min_weight_fraction_leaf=0.0, n_estimators=30,\n",
    "                       n_jobs=None, oob_score=False, random_state=None,\n",
    "                       verbose=0, warm_start=False)\n",
    "rf2_clf.fit(X_train, y_train)\n",
    "\n",
    "y_pred_rf = rf2_clf.predict(X_test)\n",
    "accuracy_score(y_test, y_pred_rf)"
   ]
  },
  {
   "cell_type": "markdown",
   "metadata": {},
   "source": [
    "### Gradient Boosting Classifier"
   ]
  },
  {
   "cell_type": "code",
   "execution_count": 77,
   "metadata": {},
   "outputs": [
    {
     "data": {
      "text/plain": [
       "0.9545349996166526"
      ]
     },
     "execution_count": 77,
     "metadata": {},
     "output_type": "execute_result"
    }
   ],
   "source": [
    "from sklearn.ensemble import GradientBoostingClassifier\n",
    "gb_clf = GradientBoostingClassifier()\n",
    "gb_clf.fit(X_train, y_train)\n",
    "\n",
    "y_pred_gb = gb_clf.predict(X_test)\n",
    "accuracy_score(y_test, y_pred_gb)"
   ]
  },
  {
   "cell_type": "code",
   "execution_count": 113,
   "metadata": {},
   "outputs": [
    {
     "data": {
      "text/plain": [
       "GridSearchCV(cv=4, error_score='raise-deprecating',\n",
       "             estimator=GradientBoostingClassifier(criterion='friedman_mse',\n",
       "                                                  init=None, learning_rate=0.1,\n",
       "                                                  loss='deviance', max_depth=3,\n",
       "                                                  max_features=None,\n",
       "                                                  max_leaf_nodes=None,\n",
       "                                                  min_impurity_decrease=0.0,\n",
       "                                                  min_impurity_split=None,\n",
       "                                                  min_samples_leaf=1,\n",
       "                                                  min_samples_split=2,\n",
       "                                                  min_weight_fraction_leaf=0.0,\n",
       "                                                  n_estimators=100,\n",
       "                                                  n_iter_no...=None,\n",
       "                                                  presort='auto',\n",
       "                                                  random_state=None,\n",
       "                                                  subsample=1.0, tol=0.0001,\n",
       "                                                  validation_fraction=0.1,\n",
       "                                                  verbose=0, warm_start=False),\n",
       "             iid='warn', n_jobs=None,\n",
       "             param_grid=[{'learning_rate': [0.1, 0.2, 1, 10, 0.01],\n",
       "                          'max_features': [2, 4, 6, 8, 10],\n",
       "                          'n_estimators': [3, 10, 30, 100]}],\n",
       "             pre_dispatch='2*n_jobs', refit=True, return_train_score=False,\n",
       "             scoring='neg_mean_squared_error', verbose=0)"
      ]
     },
     "execution_count": 113,
     "metadata": {},
     "output_type": "execute_result"
    }
   ],
   "source": [
    "#using GridSearchCV \n",
    "\n",
    "from sklearn.model_selection import GridSearchCV\n",
    "\n",
    "param_grid = [\n",
    "    {'n_estimators': [3, 10, 30,100], 'max_features': [2, 4, 6, 8,10], 'learning_rate':[0.1,0.2,1,10,0.01]}\n",
    "]\n",
    "\n",
    "grid_search = GridSearchCV(gb_clf, param_grid, cv=4,\n",
    "                           scoring='neg_mean_squared_error')\n",
    "grid_search.fit(X_train, y_train)"
   ]
  },
  {
   "cell_type": "code",
   "execution_count": 114,
   "metadata": {},
   "outputs": [
    {
     "data": {
      "text/plain": [
       "GradientBoostingClassifier(criterion='friedman_mse', init=None,\n",
       "                           learning_rate=0.2, loss='deviance', max_depth=3,\n",
       "                           max_features=10, max_leaf_nodes=None,\n",
       "                           min_impurity_decrease=0.0, min_impurity_split=None,\n",
       "                           min_samples_leaf=1, min_samples_split=2,\n",
       "                           min_weight_fraction_leaf=0.0, n_estimators=30,\n",
       "                           n_iter_no_change=None, presort='auto',\n",
       "                           random_state=None, subsample=1.0, tol=0.0001,\n",
       "                           validation_fraction=0.1, verbose=0,\n",
       "                           warm_start=False)"
      ]
     },
     "execution_count": 114,
     "metadata": {},
     "output_type": "execute_result"
    }
   ],
   "source": [
    "# Get the best estimator\n",
    "\n",
    "grid_search.best_estimator_"
   ]
  },
  {
   "cell_type": "code",
   "execution_count": 115,
   "metadata": {},
   "outputs": [
    {
     "data": {
      "text/plain": [
       "0.9720923100513685"
      ]
     },
     "execution_count": 115,
     "metadata": {},
     "output_type": "execute_result"
    }
   ],
   "source": [
    "gb_clf2 = GradientBoostingClassifier(criterion='friedman_mse', init=None,\n",
    "                           learning_rate=0.2, loss='deviance', max_depth=3,\n",
    "                           max_features=10, max_leaf_nodes=None,\n",
    "                           min_impurity_decrease=0.0, min_impurity_split=None,\n",
    "                           min_samples_leaf=1, min_samples_split=2,\n",
    "                           min_weight_fraction_leaf=0.0, n_estimators=30,\n",
    "                           n_iter_no_change=None, presort='auto',\n",
    "                           random_state=None, subsample=1.0, tol=0.0001,\n",
    "                           validation_fraction=0.1, verbose=0,\n",
    "                           warm_start=False)\n",
    "gb_clf2.fit(X_train, y_train)\n",
    "\n",
    "y_pred_gb2 = gb_clf2.predict(X_test)\n",
    "accuracy_score(y_test, y_pred_gb2)"
   ]
  },
  {
   "cell_type": "code",
   "execution_count": null,
   "metadata": {},
   "outputs": [],
   "source": []
  },
  {
   "cell_type": "code",
   "execution_count": null,
   "metadata": {},
   "outputs": [],
   "source": []
  },
  {
   "cell_type": "code",
   "execution_count": null,
   "metadata": {},
   "outputs": [],
   "source": []
  },
  {
   "cell_type": "markdown",
   "metadata": {},
   "source": [
    "# Exploratory Data Analysis"
   ]
  },
  {
   "cell_type": "markdown",
   "metadata": {},
   "source": [
    "### College wise induction of players into nfl"
   ]
  },
  {
   "cell_type": "code",
   "execution_count": 43,
   "metadata": {},
   "outputs": [
    {
     "data": {
      "text/html": [
       "<div>\n",
       "<style scoped>\n",
       "    .dataframe tbody tr th:only-of-type {\n",
       "        vertical-align: middle;\n",
       "    }\n",
       "\n",
       "    .dataframe tbody tr th {\n",
       "        vertical-align: top;\n",
       "    }\n",
       "\n",
       "    .dataframe thead th {\n",
       "        text-align: right;\n",
       "    }\n",
       "</style>\n",
       "<table border=\"1\" class=\"dataframe\">\n",
       "  <thead>\n",
       "    <tr style=\"text-align: right;\">\n",
       "      <th></th>\n",
       "      <th>nflId</th>\n",
       "      <th>FirstName</th>\n",
       "      <th>LastName</th>\n",
       "      <th>PositionAbbr</th>\n",
       "      <th>EntryYear</th>\n",
       "      <th>DraftRound</th>\n",
       "      <th>DraftNumber</th>\n",
       "      <th>Height</th>\n",
       "      <th>Weight</th>\n",
       "      <th>College</th>\n",
       "    </tr>\n",
       "  </thead>\n",
       "  <tbody>\n",
       "    <tr>\n",
       "      <td>0</td>\n",
       "      <td>79860</td>\n",
       "      <td>John</td>\n",
       "      <td>Stafford</td>\n",
       "      <td>QB</td>\n",
       "      <td>2009</td>\n",
       "      <td>1.0</td>\n",
       "      <td>1.0</td>\n",
       "      <td>6'03\"</td>\n",
       "      <td>220</td>\n",
       "      <td>Georgia</td>\n",
       "    </tr>\n",
       "    <tr>\n",
       "      <td>1</td>\n",
       "      <td>71465</td>\n",
       "      <td>Andre</td>\n",
       "      <td>Smith</td>\n",
       "      <td>T</td>\n",
       "      <td>2009</td>\n",
       "      <td>1.0</td>\n",
       "      <td>6.0</td>\n",
       "      <td>6'04\"</td>\n",
       "      <td>325</td>\n",
       "      <td>Alabama</td>\n",
       "    </tr>\n",
       "    <tr>\n",
       "      <td>2</td>\n",
       "      <td>80427</td>\n",
       "      <td>Darrius</td>\n",
       "      <td>Heyward-Bey</td>\n",
       "      <td>WR</td>\n",
       "      <td>2009</td>\n",
       "      <td>1.0</td>\n",
       "      <td>7.0</td>\n",
       "      <td>6'02\"</td>\n",
       "      <td>210</td>\n",
       "      <td>Maryland</td>\n",
       "    </tr>\n",
       "    <tr>\n",
       "      <td>3</td>\n",
       "      <td>71269</td>\n",
       "      <td>Michael</td>\n",
       "      <td>Crabtree</td>\n",
       "      <td>WR</td>\n",
       "      <td>2009</td>\n",
       "      <td>1.0</td>\n",
       "      <td>10.0</td>\n",
       "      <td>6'01\"</td>\n",
       "      <td>214</td>\n",
       "      <td>Texas Tech</td>\n",
       "    </tr>\n",
       "    <tr>\n",
       "      <td>4</td>\n",
       "      <td>71423</td>\n",
       "      <td>Brian</td>\n",
       "      <td>Orakpo</td>\n",
       "      <td>OLB</td>\n",
       "      <td>2009</td>\n",
       "      <td>1.0</td>\n",
       "      <td>13.0</td>\n",
       "      <td>6'04\"</td>\n",
       "      <td>257</td>\n",
       "      <td>Texas</td>\n",
       "    </tr>\n",
       "  </tbody>\n",
       "</table>\n",
       "</div>"
      ],
      "text/plain": [
       "   nflId FirstName     LastName PositionAbbr  EntryYear  DraftRound  \\\n",
       "0  79860      John     Stafford           QB       2009         1.0   \n",
       "1  71465     Andre        Smith            T       2009         1.0   \n",
       "2  80427   Darrius  Heyward-Bey           WR       2009         1.0   \n",
       "3  71269   Michael     Crabtree           WR       2009         1.0   \n",
       "4  71423     Brian       Orakpo          OLB       2009         1.0   \n",
       "\n",
       "   DraftNumber Height  Weight     College  \n",
       "0          1.0  6'03\"     220     Georgia  \n",
       "1          6.0  6'04\"     325     Alabama  \n",
       "2          7.0  6'02\"     210    Maryland  \n",
       "3         10.0  6'01\"     214  Texas Tech  \n",
       "4         13.0  6'04\"     257       Texas  "
      ]
     },
     "execution_count": 43,
     "metadata": {},
     "output_type": "execute_result"
    }
   ],
   "source": [
    "players.head()"
   ]
  },
  {
   "cell_type": "code",
   "execution_count": 44,
   "metadata": {},
   "outputs": [
    {
     "data": {
      "text/html": [
       "<div>\n",
       "<style scoped>\n",
       "    .dataframe tbody tr th:only-of-type {\n",
       "        vertical-align: middle;\n",
       "    }\n",
       "\n",
       "    .dataframe tbody tr th {\n",
       "        vertical-align: top;\n",
       "    }\n",
       "\n",
       "    .dataframe thead th {\n",
       "        text-align: right;\n",
       "    }\n",
       "</style>\n",
       "<table border=\"1\" class=\"dataframe\">\n",
       "  <thead>\n",
       "    <tr style=\"text-align: right;\">\n",
       "      <th></th>\n",
       "      <th>College</th>\n",
       "      <th>nflId</th>\n",
       "    </tr>\n",
       "  </thead>\n",
       "  <tbody>\n",
       "    <tr>\n",
       "      <td>3</td>\n",
       "      <td>Alabama</td>\n",
       "      <td>39</td>\n",
       "    </tr>\n",
       "    <tr>\n",
       "      <td>106</td>\n",
       "      <td>Louisiana State</td>\n",
       "      <td>37</td>\n",
       "    </tr>\n",
       "    <tr>\n",
       "      <td>63</td>\n",
       "      <td>Florida</td>\n",
       "      <td>37</td>\n",
       "    </tr>\n",
       "    <tr>\n",
       "      <td>66</td>\n",
       "      <td>Florida State</td>\n",
       "      <td>35</td>\n",
       "    </tr>\n",
       "    <tr>\n",
       "      <td>166</td>\n",
       "      <td>Ohio State</td>\n",
       "      <td>35</td>\n",
       "    </tr>\n",
       "    <tr>\n",
       "      <td>121</td>\n",
       "      <td>Miami</td>\n",
       "      <td>34</td>\n",
       "    </tr>\n",
       "    <tr>\n",
       "      <td>203</td>\n",
       "      <td>Southern California</td>\n",
       "      <td>33</td>\n",
       "    </tr>\n",
       "    <tr>\n",
       "      <td>46</td>\n",
       "      <td>Clemson</td>\n",
       "      <td>33</td>\n",
       "    </tr>\n",
       "  </tbody>\n",
       "</table>\n",
       "</div>"
      ],
      "text/plain": [
       "                 College  nflId\n",
       "3                Alabama     39\n",
       "106      Louisiana State     37\n",
       "63               Florida     37\n",
       "66         Florida State     35\n",
       "166           Ohio State     35\n",
       "121                Miami     34\n",
       "203  Southern California     33\n",
       "46               Clemson     33"
      ]
     },
     "execution_count": 44,
     "metadata": {},
     "output_type": "execute_result"
    }
   ],
   "source": [
    "college = players.groupby('College')['nflId'].count().reset_index()\n",
    "college.sort_values(by='nflId', inplace=True, ascending=False)\n",
    "college.head(8)"
   ]
  },
  {
   "cell_type": "markdown",
   "metadata": {},
   "source": [
    "### 2 point success rate"
   ]
  },
  {
   "cell_type": "code",
   "execution_count": 45,
   "metadata": {},
   "outputs": [
    {
     "data": {
      "text/html": [
       "<div>\n",
       "<style scoped>\n",
       "    .dataframe tbody tr th:only-of-type {\n",
       "        vertical-align: middle;\n",
       "    }\n",
       "\n",
       "    .dataframe tbody tr th {\n",
       "        vertical-align: top;\n",
       "    }\n",
       "\n",
       "    .dataframe thead th {\n",
       "        text-align: right;\n",
       "    }\n",
       "</style>\n",
       "<table border=\"1\" class=\"dataframe\">\n",
       "  <thead>\n",
       "    <tr style=\"text-align: right;\">\n",
       "      <th></th>\n",
       "      <th>posteam</th>\n",
       "      <th>two_point_attempt</th>\n",
       "      <th>two_point_conv_result</th>\n",
       "    </tr>\n",
       "  </thead>\n",
       "  <tbody>\n",
       "    <tr>\n",
       "      <td>0</td>\n",
       "      <td>PIT</td>\n",
       "      <td>0.0</td>\n",
       "      <td>NaN</td>\n",
       "    </tr>\n",
       "    <tr>\n",
       "      <td>1</td>\n",
       "      <td>PIT</td>\n",
       "      <td>0.0</td>\n",
       "      <td>NaN</td>\n",
       "    </tr>\n",
       "    <tr>\n",
       "      <td>2</td>\n",
       "      <td>PIT</td>\n",
       "      <td>0.0</td>\n",
       "      <td>NaN</td>\n",
       "    </tr>\n",
       "    <tr>\n",
       "      <td>3</td>\n",
       "      <td>PIT</td>\n",
       "      <td>0.0</td>\n",
       "      <td>NaN</td>\n",
       "    </tr>\n",
       "    <tr>\n",
       "      <td>4</td>\n",
       "      <td>PIT</td>\n",
       "      <td>0.0</td>\n",
       "      <td>NaN</td>\n",
       "    </tr>\n",
       "  </tbody>\n",
       "</table>\n",
       "</div>"
      ],
      "text/plain": [
       "  posteam  two_point_attempt two_point_conv_result\n",
       "0     PIT                0.0                   NaN\n",
       "1     PIT                0.0                   NaN\n",
       "2     PIT                0.0                   NaN\n",
       "3     PIT                0.0                   NaN\n",
       "4     PIT                0.0                   NaN"
      ]
     },
     "execution_count": 45,
     "metadata": {},
     "output_type": "execute_result"
    }
   ],
   "source": [
    "two_point = nfl[['posteam','two_point_attempt','two_point_conv_result']]\n",
    "two_point.head()"
   ]
  },
  {
   "cell_type": "code",
   "execution_count": 46,
   "metadata": {},
   "outputs": [
    {
     "name": "stderr",
     "output_type": "stream",
     "text": [
      "C:\\Users\\OYO\\Anaconda3\\lib\\site-packages\\ipykernel_launcher.py:8: SettingWithCopyWarning: \n",
      "A value is trying to be set on a copy of a slice from a DataFrame.\n",
      "Try using .loc[row_indexer,col_indexer] = value instead\n",
      "\n",
      "See the caveats in the documentation: http://pandas.pydata.org/pandas-docs/stable/user_guide/indexing.html#returning-a-view-versus-a-copy\n",
      "  \n",
      "C:\\Users\\OYO\\Anaconda3\\lib\\site-packages\\pandas\\core\\frame.py:4102: SettingWithCopyWarning: \n",
      "A value is trying to be set on a copy of a slice from a DataFrame\n",
      "\n",
      "See the caveats in the documentation: http://pandas.pydata.org/pandas-docs/stable/user_guide/indexing.html#returning-a-view-versus-a-copy\n",
      "  errors=errors,\n"
     ]
    },
    {
     "data": {
      "text/html": [
       "<div>\n",
       "<style scoped>\n",
       "    .dataframe tbody tr th:only-of-type {\n",
       "        vertical-align: middle;\n",
       "    }\n",
       "\n",
       "    .dataframe tbody tr th {\n",
       "        vertical-align: top;\n",
       "    }\n",
       "\n",
       "    .dataframe thead th {\n",
       "        text-align: right;\n",
       "    }\n",
       "</style>\n",
       "<table border=\"1\" class=\"dataframe\">\n",
       "  <thead>\n",
       "    <tr style=\"text-align: right;\">\n",
       "      <th></th>\n",
       "      <th>posteam</th>\n",
       "      <th>two_point_attempt</th>\n",
       "      <th>two_point_result</th>\n",
       "    </tr>\n",
       "  </thead>\n",
       "  <tbody>\n",
       "    <tr>\n",
       "      <td>0</td>\n",
       "      <td>ARI</td>\n",
       "      <td>20.0</td>\n",
       "      <td>7</td>\n",
       "    </tr>\n",
       "    <tr>\n",
       "      <td>1</td>\n",
       "      <td>ATL</td>\n",
       "      <td>25.0</td>\n",
       "      <td>9</td>\n",
       "    </tr>\n",
       "    <tr>\n",
       "      <td>2</td>\n",
       "      <td>BAL</td>\n",
       "      <td>20.0</td>\n",
       "      <td>11</td>\n",
       "    </tr>\n",
       "    <tr>\n",
       "      <td>3</td>\n",
       "      <td>BUF</td>\n",
       "      <td>22.0</td>\n",
       "      <td>12</td>\n",
       "    </tr>\n",
       "    <tr>\n",
       "      <td>4</td>\n",
       "      <td>CAR</td>\n",
       "      <td>20.0</td>\n",
       "      <td>10</td>\n",
       "    </tr>\n",
       "  </tbody>\n",
       "</table>\n",
       "</div>"
      ],
      "text/plain": [
       "  posteam  two_point_attempt  two_point_result\n",
       "0     ARI               20.0                 7\n",
       "1     ATL               25.0                 9\n",
       "2     BAL               20.0                11\n",
       "3     BUF               22.0                12\n",
       "4     CAR               20.0                10"
      ]
     },
     "execution_count": 46,
     "metadata": {},
     "output_type": "execute_result"
    }
   ],
   "source": [
    "two_point = nfl[['posteam','two_point_attempt','two_point_conv_result']]\n",
    "lst = []\n",
    "for i in two_point.two_point_conv_result:\n",
    "    if i == 'success':\n",
    "        lst.append(1)\n",
    "    else:\n",
    "        lst.append(0)\n",
    "two_point['two_point_result'] = lst\n",
    "two_point.drop('two_point_conv_result', axis=1, inplace = True)\n",
    "two_point_team_wise = two_point.groupby('posteam')['two_point_attempt','two_point_result'].sum().reset_index()\n",
    "two_point_team_wise.head()"
   ]
  },
  {
   "cell_type": "markdown",
   "metadata": {},
   "source": [
    "### Descriptive Statistical Analysis"
   ]
  },
  {
   "cell_type": "code",
   "execution_count": 47,
   "metadata": {},
   "outputs": [
    {
     "data": {
      "text/html": [
       "<div>\n",
       "<style scoped>\n",
       "    .dataframe tbody tr th:only-of-type {\n",
       "        vertical-align: middle;\n",
       "    }\n",
       "\n",
       "    .dataframe tbody tr th {\n",
       "        vertical-align: top;\n",
       "    }\n",
       "\n",
       "    .dataframe thead th {\n",
       "        text-align: right;\n",
       "    }\n",
       "</style>\n",
       "<table border=\"1\" class=\"dataframe\">\n",
       "  <thead>\n",
       "    <tr style=\"text-align: right;\">\n",
       "      <th></th>\n",
       "      <th>drive</th>\n",
       "      <th>qtr</th>\n",
       "      <th>yardline_100</th>\n",
       "      <th>quarter_seconds_remaining</th>\n",
       "      <th>half_seconds_remaining</th>\n",
       "      <th>game_seconds_remaining</th>\n",
       "      <th>play_type</th>\n",
       "      <th>fourth_down_converted</th>\n",
       "      <th>def_team</th>\n",
       "      <th>pos_team</th>\n",
       "    </tr>\n",
       "  </thead>\n",
       "  <tbody>\n",
       "    <tr>\n",
       "      <td>count</td>\n",
       "      <td>4.721000e+03</td>\n",
       "      <td>4.721000e+03</td>\n",
       "      <td>4.721000e+03</td>\n",
       "      <td>4.721000e+03</td>\n",
       "      <td>4.721000e+03</td>\n",
       "      <td>4.721000e+03</td>\n",
       "      <td>4.721000e+03</td>\n",
       "      <td>4721.000000</td>\n",
       "      <td>4.721000e+03</td>\n",
       "      <td>4.721000e+03</td>\n",
       "    </tr>\n",
       "    <tr>\n",
       "      <td>mean</td>\n",
       "      <td>4.776005e-16</td>\n",
       "      <td>6.517416e-16</td>\n",
       "      <td>1.446277e-16</td>\n",
       "      <td>-4.176564e-17</td>\n",
       "      <td>5.756886e-17</td>\n",
       "      <td>2.297581e-17</td>\n",
       "      <td>1.339769e-15</td>\n",
       "      <td>0.495234</td>\n",
       "      <td>3.695413e-16</td>\n",
       "      <td>-3.897657e-16</td>\n",
       "    </tr>\n",
       "    <tr>\n",
       "      <td>std</td>\n",
       "      <td>1.000106e+00</td>\n",
       "      <td>1.000106e+00</td>\n",
       "      <td>1.000106e+00</td>\n",
       "      <td>1.000106e+00</td>\n",
       "      <td>1.000106e+00</td>\n",
       "      <td>1.000106e+00</td>\n",
       "      <td>1.000106e+00</td>\n",
       "      <td>0.500030</td>\n",
       "      <td>1.000106e+00</td>\n",
       "      <td>1.000106e+00</td>\n",
       "    </tr>\n",
       "    <tr>\n",
       "      <td>min</td>\n",
       "      <td>-2.066053e+00</td>\n",
       "      <td>-2.049912e+00</td>\n",
       "      <td>-1.598148e+00</td>\n",
       "      <td>-1.256560e+00</td>\n",
       "      <td>-1.098224e+00</td>\n",
       "      <td>-1.000409e+00</td>\n",
       "      <td>-7.553315e-01</td>\n",
       "      <td>0.000000</td>\n",
       "      <td>-1.626594e+00</td>\n",
       "      <td>-1.615079e+00</td>\n",
       "    </tr>\n",
       "    <tr>\n",
       "      <td>25%</td>\n",
       "      <td>-6.949383e-01</td>\n",
       "      <td>-1.121602e+00</td>\n",
       "      <td>-7.805922e-01</td>\n",
       "      <td>-8.455030e-01</td>\n",
       "      <td>-8.573316e-01</td>\n",
       "      <td>-8.623551e-01</td>\n",
       "      <td>-7.553315e-01</td>\n",
       "      <td>0.000000</td>\n",
       "      <td>-9.471436e-01</td>\n",
       "      <td>-9.427416e-01</td>\n",
       "    </tr>\n",
       "    <tr>\n",
       "      <td>50%</td>\n",
       "      <td>2.648421e-01</td>\n",
       "      <td>7.350190e-01</td>\n",
       "      <td>-8.456673e-03</td>\n",
       "      <td>-2.676970e-01</td>\n",
       "      <td>-3.514572e-01</td>\n",
       "      <td>-4.184736e-01</td>\n",
       "      <td>-7.553315e-01</td>\n",
       "      <td>0.000000</td>\n",
       "      <td>2.350023e-02</td>\n",
       "      <td>-7.830749e-02</td>\n",
       "    </tr>\n",
       "    <tr>\n",
       "      <td>75%</td>\n",
       "      <td>8.132881e-01</td>\n",
       "      <td>7.350190e-01</td>\n",
       "      <td>6.728394e-01</td>\n",
       "      <td>7.832119e-01</td>\n",
       "      <td>7.084699e-01</td>\n",
       "      <td>7.636125e-01</td>\n",
       "      <td>1.323922e+00</td>\n",
       "      <td>1.000000</td>\n",
       "      <td>8.970796e-01</td>\n",
       "      <td>8.821748e-01</td>\n",
       "    </tr>\n",
       "    <tr>\n",
       "      <td>max</td>\n",
       "      <td>2.458626e+00</td>\n",
       "      <td>1.663329e+00</td>\n",
       "      <td>2.852987e+00</td>\n",
       "      <td>2.233544e+00</td>\n",
       "      <td>2.515164e+00</td>\n",
       "      <td>2.409713e+00</td>\n",
       "      <td>1.323922e+00</td>\n",
       "      <td>1.000000</td>\n",
       "      <td>1.673595e+00</td>\n",
       "      <td>1.650561e+00</td>\n",
       "    </tr>\n",
       "  </tbody>\n",
       "</table>\n",
       "</div>"
      ],
      "text/plain": [
       "              drive           qtr  yardline_100  quarter_seconds_remaining  \\\n",
       "count  4.721000e+03  4.721000e+03  4.721000e+03               4.721000e+03   \n",
       "mean   4.776005e-16  6.517416e-16  1.446277e-16              -4.176564e-17   \n",
       "std    1.000106e+00  1.000106e+00  1.000106e+00               1.000106e+00   \n",
       "min   -2.066053e+00 -2.049912e+00 -1.598148e+00              -1.256560e+00   \n",
       "25%   -6.949383e-01 -1.121602e+00 -7.805922e-01              -8.455030e-01   \n",
       "50%    2.648421e-01  7.350190e-01 -8.456673e-03              -2.676970e-01   \n",
       "75%    8.132881e-01  7.350190e-01  6.728394e-01               7.832119e-01   \n",
       "max    2.458626e+00  1.663329e+00  2.852987e+00               2.233544e+00   \n",
       "\n",
       "       half_seconds_remaining  game_seconds_remaining     play_type  \\\n",
       "count            4.721000e+03            4.721000e+03  4.721000e+03   \n",
       "mean             5.756886e-17            2.297581e-17  1.339769e-15   \n",
       "std              1.000106e+00            1.000106e+00  1.000106e+00   \n",
       "min             -1.098224e+00           -1.000409e+00 -7.553315e-01   \n",
       "25%             -8.573316e-01           -8.623551e-01 -7.553315e-01   \n",
       "50%             -3.514572e-01           -4.184736e-01 -7.553315e-01   \n",
       "75%              7.084699e-01            7.636125e-01  1.323922e+00   \n",
       "max              2.515164e+00            2.409713e+00  1.323922e+00   \n",
       "\n",
       "       fourth_down_converted      def_team      pos_team  \n",
       "count            4721.000000  4.721000e+03  4.721000e+03  \n",
       "mean                0.495234  3.695413e-16 -3.897657e-16  \n",
       "std                 0.500030  1.000106e+00  1.000106e+00  \n",
       "min                 0.000000 -1.626594e+00 -1.615079e+00  \n",
       "25%                 0.000000 -9.471436e-01 -9.427416e-01  \n",
       "50%                 0.000000  2.350023e-02 -7.830749e-02  \n",
       "75%                 1.000000  8.970796e-01  8.821748e-01  \n",
       "max                 1.000000  1.673595e+00  1.650561e+00  "
      ]
     },
     "execution_count": 47,
     "metadata": {},
     "output_type": "execute_result"
    }
   ],
   "source": [
    "model_data.describe()"
   ]
  },
  {
   "cell_type": "markdown",
   "metadata": {},
   "source": [
    "### Mean weight by Position"
   ]
  },
  {
   "cell_type": "code",
   "execution_count": 118,
   "metadata": {},
   "outputs": [
    {
     "data": {
      "text/html": [
       "<div>\n",
       "<style scoped>\n",
       "    .dataframe tbody tr th:only-of-type {\n",
       "        vertical-align: middle;\n",
       "    }\n",
       "\n",
       "    .dataframe tbody tr th {\n",
       "        vertical-align: top;\n",
       "    }\n",
       "\n",
       "    .dataframe thead th {\n",
       "        text-align: right;\n",
       "    }\n",
       "</style>\n",
       "<table border=\"1\" class=\"dataframe\">\n",
       "  <thead>\n",
       "    <tr style=\"text-align: right;\">\n",
       "      <th></th>\n",
       "      <th>PositionAbbr</th>\n",
       "      <th>Weight</th>\n",
       "    </tr>\n",
       "  </thead>\n",
       "  <tbody>\n",
       "    <tr>\n",
       "      <td>19</td>\n",
       "      <td>T</td>\n",
       "      <td>317.252336</td>\n",
       "    </tr>\n",
       "    <tr>\n",
       "      <td>13</td>\n",
       "      <td>NT</td>\n",
       "      <td>316.407407</td>\n",
       "    </tr>\n",
       "    <tr>\n",
       "      <td>7</td>\n",
       "      <td>G</td>\n",
       "      <td>314.103774</td>\n",
       "    </tr>\n",
       "    <tr>\n",
       "      <td>4</td>\n",
       "      <td>DT</td>\n",
       "      <td>307.616822</td>\n",
       "    </tr>\n",
       "    <tr>\n",
       "      <td>0</td>\n",
       "      <td>C</td>\n",
       "      <td>306.309091</td>\n",
       "    </tr>\n",
       "  </tbody>\n",
       "</table>\n",
       "</div>"
      ],
      "text/plain": [
       "   PositionAbbr      Weight\n",
       "19            T  317.252336\n",
       "13           NT  316.407407\n",
       "7             G  314.103774\n",
       "4            DT  307.616822\n",
       "0             C  306.309091"
      ]
     },
     "execution_count": 118,
     "metadata": {},
     "output_type": "execute_result"
    }
   ],
   "source": [
    "players_weight = players.groupby('PositionAbbr')['Weight'].mean().reset_index()\n",
    "players_weight.sort_values(by='Weight', ascending=False,inplace=True)\n",
    "players_weight.head()"
   ]
  },
  {
   "cell_type": "markdown",
   "metadata": {},
   "source": [
    "### Most commonly occurring penalty types"
   ]
  },
  {
   "cell_type": "code",
   "execution_count": 130,
   "metadata": {},
   "outputs": [
    {
     "data": {
      "text/plain": [
       "Offensive Holding                6250\n",
       "False Start                      5793\n",
       "Defensive Pass Interference      2225\n",
       "Unnecessary Roughness            1794\n",
       "Defensive Holding                1731\n",
       "Defensive Offside                1659\n",
       "Delay of Game                    1290\n",
       "Illegal Block Above the Waist    1236\n",
       "Neutral Zone Infraction          1112\n",
       "Roughing the Passer               903\n",
       "Name: penalty_type, dtype: int64"
      ]
     },
     "execution_count": 130,
     "metadata": {},
     "output_type": "execute_result"
    }
   ],
   "source": [
    "penalty_type = nfl['penalty_type'].value_counts()\n",
    "penalty_type.head(10)"
   ]
  },
  {
   "cell_type": "code",
   "execution_count": null,
   "metadata": {},
   "outputs": [],
   "source": []
  },
  {
   "cell_type": "code",
   "execution_count": null,
   "metadata": {},
   "outputs": [],
   "source": []
  }
 ],
 "metadata": {
  "kernelspec": {
   "display_name": "Python 3",
   "language": "python",
   "name": "python3"
  },
  "language_info": {
   "codemirror_mode": {
    "name": "ipython",
    "version": 3
   },
   "file_extension": ".py",
   "mimetype": "text/x-python",
   "name": "python",
   "nbconvert_exporter": "python",
   "pygments_lexer": "ipython3",
   "version": "3.7.4"
  }
 },
 "nbformat": 4,
 "nbformat_minor": 2
}
